{
 "cells": [
  {
   "cell_type": "code",
   "execution_count": 1,
   "metadata": {},
   "outputs": [],
   "source": [
    "import numpy as np\n",
    "import matplotlib.pyplot as plt\n",
    "from scipy.optimize import brentq\n",
    "import sigkernel_cpu as ksig"
   ]
  },
  {
   "cell_type": "code",
   "execution_count": 2,
   "metadata": {},
   "outputs": [],
   "source": [
    "def psi(x, a=1, C=4):\n",
    "    # helper function to calculate the normalisation constant for the characteristic signature kernel\n",
    "    x = C+C**(1+a)*(C**-a - x**-a)/a if x>4 else x\n",
    "    return x\n",
    "\n",
    "def norm_func(λ, norms, a=1, c=4):\n",
    "    '''\n",
    "    Function to solve for root which are the normalisation constants for the characteristic signature kernel\n",
    "    λ: float, normalisation constant\n",
    "    norms: np.array of shape (n_levels,) where n_levels is the number of signature levels\n",
    "    a: float, parameter for psi function used in the tensor normalisation to get the characteristic signature kernel\n",
    "    C: float, as above\n",
    "    '''\n",
    "    norm_sum = norms.sum()\n",
    "    m = len(norms)\n",
    "    λ = np.ones(m) * λ\n",
    "    powers = np.arange(m) * 2\n",
    "    return np.sum(norms * np.power(λ, powers)) - psi(norm_sum, a, c)\n",
    "\n",
    "def get_normalisation_constants(gram_matrix, a=1, C=4):\n",
    "    '''\n",
    "    Calculate normalisation constants for each path\n",
    "    normsq_levels: np.array of shape (n_samples, n_levels) where n_levels is the number of signature levels\n",
    "    a: float, parameter for psi function used in the tensor normalisation to get the characteristic signature kernel\n",
    "    C: float, as above\n",
    "    '''\n",
    "    normsq_levels = ksig.utils.matrix_diag(gram_matrix).T # shape (n_samples, n_levels) each row is the norm squared of the signature at each level for a sample\n",
    "    n_samples = normsq_levels.shape[0]\n",
    "    normsq = np.sum(normsq_levels, axis=1) # shape (n_samples,) each entry is the norm squared of the signature for a sample\n",
    "    norm_condition = normsq > C # check which samples need normalisation\n",
    "    λ = np.ones(n_samples)\n",
    "    for i in range(n_samples):\n",
    "        if norm_condition[i]:\n",
    "            λ[i] = brentq(norm_func, 0, 1, args=(normsq_levels[i], a, C)) # find normalisation constant for each sample\n",
    "    return λ\n"
   ]
  },
  {
   "cell_type": "code",
   "execution_count": 17,
   "metadata": {},
   "outputs": [],
   "source": [
    "n_samples = 50\n",
    "sample_len = 30\n",
    "initial_value = 100\n",
    "n_levels = 3\n",
    "lengthscale = 0.1\n",
    "dt = 1 / 12\n",
    "a = 1\n",
    "C = 100"
   ]
  },
  {
   "cell_type": "code",
   "execution_count": 18,
   "metadata": {},
   "outputs": [],
   "source": [
    "X = ksig.tests.gen_Heston_path(mu=0.1, v0=0.04, kappa=2., theta=0.04, sigma=0.2, rho=-0.5,\n",
    "                               dt=dt, n_paths=n_samples, seq_len=sample_len).astype(np.float32) * initial_value\n",
    "Y = ksig.tests.gen_Heston_path(mu=0.5, v0=0.25, kappa=1., theta=0.25, sigma=0.5, rho=-0.5,\n",
    "                               dt=dt, n_paths=n_samples, seq_len=sample_len).astype(np.float32) * initial_value\n",
    "X = np.log(X)\n",
    "Y = np.log(Y)"
   ]
  },
  {
   "cell_type": "code",
   "execution_count": 19,
   "metadata": {},
   "outputs": [
    {
     "data": {
      "text/plain": [
       "((4, 50, 50), (4, 50, 50), (4, 50, 50))"
      ]
     },
     "execution_count": 19,
     "metadata": {},
     "output_type": "execute_result"
    }
   ],
   "source": [
    "static_kernel = ksig.static.kernels.RBFKernel(lengthscale=lengthscale)\n",
    "kernel = ksig.kernels.SignatureKernel(n_levels=n_levels, order=n_levels, normalization=3, static_kernel=static_kernel)\n",
    "K_XX = kernel(X, X)\n",
    "K_YY = kernel(Y, Y)\n",
    "K_XY = kernel(X, Y)\n",
    "K_XX.shape, K_YY.shape, K_XY.shape"
   ]
  },
  {
   "cell_type": "code",
   "execution_count": 20,
   "metadata": {},
   "outputs": [
    {
     "data": {
      "text/plain": [
       "((4, 50, 50), -1.730585, 15.573306)"
      ]
     },
     "execution_count": 20,
     "metadata": {},
     "output_type": "execute_result"
    }
   ],
   "source": [
    "K_XX.shape, K_XX.min(), K_XX.max()"
   ]
  },
  {
   "cell_type": "code",
   "execution_count": 21,
   "metadata": {},
   "outputs": [
    {
     "data": {
      "text/plain": [
       "((4, 50, 50), -3.275638, 24.072582)"
      ]
     },
     "execution_count": 21,
     "metadata": {},
     "output_type": "execute_result"
    }
   ],
   "source": [
    "K_YY.shape, K_YY.min(), K_YY.max()"
   ]
  },
  {
   "cell_type": "code",
   "execution_count": 22,
   "metadata": {},
   "outputs": [
    {
     "data": {
      "text/plain": [
       "((50,),\n",
       " array([1., 1., 1., 1., 1., 1., 1., 1., 1., 1., 1., 1., 1., 1., 1., 1., 1.,\n",
       "        1., 1., 1., 1., 1., 1., 1., 1., 1., 1., 1., 1., 1., 1., 1., 1., 1.,\n",
       "        1., 1., 1., 1., 1., 1., 1., 1., 1., 1., 1., 1., 1., 1., 1., 1.]))"
      ]
     },
     "execution_count": 22,
     "metadata": {},
     "output_type": "execute_result"
    }
   ],
   "source": [
    "lambdas = get_normalisation_constants(K_XX, a=a, C=C)\n",
    "lambdas.shape, lambdas"
   ]
  },
  {
   "cell_type": "code",
   "execution_count": 23,
   "metadata": {},
   "outputs": [
    {
     "data": {
      "text/plain": [
       "((50,),\n",
       " array([1., 1., 1., 1., 1., 1., 1., 1., 1., 1., 1., 1., 1., 1., 1., 1., 1.,\n",
       "        1., 1., 1., 1., 1., 1., 1., 1., 1., 1., 1., 1., 1., 1., 1., 1., 1.,\n",
       "        1., 1., 1., 1., 1., 1., 1., 1., 1., 1., 1., 1., 1., 1., 1., 1.]))"
      ]
     },
     "execution_count": 23,
     "metadata": {},
     "output_type": "execute_result"
    }
   ],
   "source": [
    "lambdas = get_normalisation_constants(K_YY, a=a, C=C)\n",
    "lambdas.shape, lambdas"
   ]
  },
  {
   "cell_type": "markdown",
   "metadata": {},
   "source": [
    "# More than one root in range"
   ]
  },
  {
   "cell_type": "code",
   "execution_count": 50,
   "metadata": {},
   "outputs": [
    {
     "data": {
      "text/plain": [
       "[<matplotlib.lines.Line2D at 0x12a2f7c10>]"
      ]
     },
     "execution_count": 50,
     "metadata": {},
     "output_type": "execute_result"
    },
    {
     "data": {
      "image/png": "[encoded data removed]",
      "text/plain": [
       "<Figure size 640x480 with 1 Axes>"
      ]
     },
     "metadata": {},
     "output_type": "display_data"
    }
   ],
   "source": [
    "# define function with more than one root between 0 and 1\n",
    "def f(x):\n",
    "    return (x-0.5)**2 - 0.1\n",
    "x = np.linspace(0, 1, 100)\n",
    "y = f(x)\n",
    "plt.plot(x, y)"
   ]
  },
  {
   "cell_type": "code",
   "execution_count": 51,
   "metadata": {},
   "outputs": [
    {
     "ename": "ValueError",
     "evalue": "f(a) and f(b) must have different signs",
     "output_type": "error",
     "traceback": [
      "\u001b[0;31m---------------------------------------------------------------------------\u001b[0m",
      "\u001b[0;31mValueError\u001b[0m                                Traceback (most recent call last)",
      "\u001b[1;32m/Users/luchungi/Google Drive/Programming/Git/ds3_kernel_testing/root_solver.ipynb Cell 12\u001b[0m line \u001b[0;36m1\n\u001b[0;32m----> <a href='vscode-notebook-cell:/Users/luchungi/Google%20Drive/Programming/Git/ds3_kernel_testing/root_solver.ipynb#X21sZmlsZQ%3D%3D?line=0'>1</a>\u001b[0m brentq(f, \u001b[39m0\u001b[39;49m, \u001b[39m1\u001b[39;49m)\n",
      "File \u001b[0;32m~/opt/anaconda3/envs/vix/lib/python3.11/site-packages/scipy/optimize/_zeros_py.py:799\u001b[0m, in \u001b[0;36mbrentq\u001b[0;34m(f, a, b, args, xtol, rtol, maxiter, full_output, disp)\u001b[0m\n\u001b[1;32m    797\u001b[0m     \u001b[39mraise\u001b[39;00m \u001b[39mValueError\u001b[39;00m(\u001b[39mf\u001b[39m\u001b[39m\"\u001b[39m\u001b[39mrtol too small (\u001b[39m\u001b[39m{\u001b[39;00mrtol\u001b[39m:\u001b[39;00m\u001b[39mg\u001b[39m\u001b[39m}\u001b[39;00m\u001b[39m < \u001b[39m\u001b[39m{\u001b[39;00m_rtol\u001b[39m:\u001b[39;00m\u001b[39mg\u001b[39m\u001b[39m}\u001b[39;00m\u001b[39m)\u001b[39m\u001b[39m\"\u001b[39m)\n\u001b[1;32m    798\u001b[0m f \u001b[39m=\u001b[39m _wrap_nan_raise(f)\n\u001b[0;32m--> 799\u001b[0m r \u001b[39m=\u001b[39m _zeros\u001b[39m.\u001b[39;49m_brentq(f, a, b, xtol, rtol, maxiter, args, full_output, disp)\n\u001b[1;32m    800\u001b[0m \u001b[39mreturn\u001b[39;00m results_c(full_output, r)\n",
      "\u001b[0;31mValueError\u001b[0m: f(a) and f(b) must have different signs"
     ]
    }
   ],
   "source": [
    "brentq(f, 0, 1)"
   ]
  }
 ],
 "metadata": {
  "kernelspec": {
   "display_name": "base",
   "language": "python",
   "name": "python3"
  },
  "language_info": {
   "codemirror_mode": {
    "name": "ipython",
    "version": 3
   },
   "file_extension": ".py",
   "mimetype": "text/x-python",
   "name": "python",
   "nbconvert_exporter": "python",
   "pygments_lexer": "ipython3",
   "version": "3.11.4"
  }
 },
 "nbformat": 4,
 "nbformat_minor": 2
}
