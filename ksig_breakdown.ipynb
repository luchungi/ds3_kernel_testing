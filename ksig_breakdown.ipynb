{
 "cells": [
  {
   "cell_type": "code",
   "execution_count": 1,
   "metadata": {},
   "outputs": [],
   "source": [
    "import numpy as np\n",
    "import cupy as cp\n",
    "import matplotlib.pyplot as plt\n",
    "%matplotlib inline\n",
    "from tqdm import tqdm\n",
    "import sigkernel as ksig"
   ]
  },
  {
   "cell_type": "markdown",
   "metadata": {},
   "source": [
    "# Linear kernel functions breakdown"
   ]
  },
  {
   "cell_type": "code",
   "execution_count": 2,
   "metadata": {},
   "outputs": [
    {
     "name": "stdout",
     "output_type": "stream",
     "text": [
      "(2, 5, 1) (2, 5, 1) (10, 1) (10, 1)\n",
      "[[0 1 2 3 4]\n",
      " [0 2 4 6 8]]\n",
      "[[-1. -1. -1. -1. -1.]\n",
      " [ 1.  1.  1.  1.  1.]]\n",
      "[[[[ 0  0  0  0  0]\n",
      "   [ 0  0  0  0  0]]\n",
      "\n",
      "  [[ 0  1  2  3  4]\n",
      "   [ 0  2  4  6  8]]\n",
      "\n",
      "  [[ 0  2  4  6  8]\n",
      "   [ 0  4  8 12 16]]\n",
      "\n",
      "  [[ 0  3  6  9 12]\n",
      "   [ 0  6 12 18 24]]\n",
      "\n",
      "  [[ 0  4  8 12 16]\n",
      "   [ 0  8 16 24 32]]]\n",
      "\n",
      "\n",
      " [[[ 0  0  0  0  0]\n",
      "   [ 0  0  0  0  0]]\n",
      "\n",
      "  [[ 0  2  4  6  8]\n",
      "   [ 0  4  8 12 16]]\n",
      "\n",
      "  [[ 0  4  8 12 16]\n",
      "   [ 0  8 16 24 32]]\n",
      "\n",
      "  [[ 0  6 12 18 24]\n",
      "   [ 0 12 24 36 48]]\n",
      "\n",
      "  [[ 0  8 16 24 32]\n",
      "   [ 0 16 32 48 64]]]]\n"
     ]
    }
   ],
   "source": [
    "seq_len = 5\n",
    "X = np.concatenate([np.arange(seq_len)[np.newaxis,...,np.newaxis], 2*np.arange(seq_len)[np.newaxis,...,np.newaxis]], axis=0)\n",
    "Y = np.concatenate([np.zeros((1,seq_len,1))-1, np.ones((1,seq_len,1))], axis=0)\n",
    "print(X.shape, Y.shape, X.reshape((-1, X.shape[-1])).shape, Y.reshape((-1, Y.shape[-1])).shape)\n",
    "print(X.squeeze())\n",
    "print(Y.squeeze())\n",
    "# M_XY = ksig.utils.matrix_mult(X.reshape((-1, X.shape[-1])), Y.reshape((-1, Y.shape[-1])), transpose_Y=True).reshape((X.shape[0], X.shape[1], Y.shape[0], Y.shape[1]))\n",
    "# print(M_XY)\n",
    "# M_YX = ksig.utils.matrix_mult(Y.reshape((-1, Y.shape[-1])), X.reshape((-1, X.shape[-1])), transpose_Y=True).reshape((Y.shape[0], Y.shape[1], X.shape[0], X.shape[1]))\n",
    "# print(M_YX)\n",
    "M_XX = ksig.utils.matrix_mult(X.reshape((-1, X.shape[-1])), X.reshape((-1, X.shape[-1])), transpose_Y=True).reshape((X.shape[0], X.shape[1], X.shape[0], X.shape[1]))\n",
    "print(M_XX)\n",
    "# M_YY = ksig.utils.matrix_mult(Y.reshape((-1, Y.shape[-1])), Y.reshape((-1, Y.shape[-1])), transpose_Y=True).reshape((Y.shape[0], Y.shape[1], Y.shape[0], Y.shape[1]))\n",
    "# print(M_YY)"
   ]
  },
  {
   "cell_type": "code",
   "execution_count": 3,
   "metadata": {},
   "outputs": [
    {
     "name": "stdout",
     "output_type": "stream",
     "text": [
      "(2, 5, 2, 5)\n",
      "[[[[-0. -0. -0. -0. -0.]\n",
      "   [ 0.  0.  0.  0.  0.]]\n",
      "\n",
      "  [[-1. -1. -1. -1. -1.]\n",
      "   [ 1.  1.  1.  1.  1.]]\n",
      "\n",
      "  [[-2. -2. -2. -2. -2.]\n",
      "   [ 2.  2.  2.  2.  2.]]\n",
      "\n",
      "  [[-3. -3. -3. -3. -3.]\n",
      "   [ 3.  3.  3.  3.  3.]]\n",
      "\n",
      "  [[-4. -4. -4. -4. -4.]\n",
      "   [ 4.  4.  4.  4.  4.]]]\n",
      "\n",
      "\n",
      " [[[-0. -0. -0. -0. -0.]\n",
      "   [ 0.  0.  0.  0.  0.]]\n",
      "\n",
      "  [[-2. -2. -2. -2. -2.]\n",
      "   [ 2.  2.  2.  2.  2.]]\n",
      "\n",
      "  [[-4. -4. -4. -4. -4.]\n",
      "   [ 4.  4.  4.  4.  4.]]\n",
      "\n",
      "  [[-6. -6. -6. -6. -6.]\n",
      "   [ 6.  6.  6.  6.  6.]]\n",
      "\n",
      "  [[-8. -8. -8. -8. -8.]\n",
      "   [ 8.  8.  8.  8.  8.]]]]\n",
      "[[[[-0. -1. -2. -3. -4.]\n",
      "   [-0. -2. -4. -6. -8.]]\n",
      "\n",
      "  [[-0. -1. -2. -3. -4.]\n",
      "   [-0. -2. -4. -6. -8.]]\n",
      "\n",
      "  [[-0. -1. -2. -3. -4.]\n",
      "   [-0. -2. -4. -6. -8.]]\n",
      "\n",
      "  [[-0. -1. -2. -3. -4.]\n",
      "   [-0. -2. -4. -6. -8.]]\n",
      "\n",
      "  [[-0. -1. -2. -3. -4.]\n",
      "   [-0. -2. -4. -6. -8.]]]\n",
      "\n",
      "\n",
      " [[[ 0.  1.  2.  3.  4.]\n",
      "   [ 0.  2.  4.  6.  8.]]\n",
      "\n",
      "  [[ 0.  1.  2.  3.  4.]\n",
      "   [ 0.  2.  4.  6.  8.]]\n",
      "\n",
      "  [[ 0.  1.  2.  3.  4.]\n",
      "   [ 0.  2.  4.  6.  8.]]\n",
      "\n",
      "  [[ 0.  1.  2.  3.  4.]\n",
      "   [ 0.  2.  4.  6.  8.]]\n",
      "\n",
      "  [[ 0.  1.  2.  3.  4.]\n",
      "   [ 0.  2.  4.  6.  8.]]]]\n"
     ]
    }
   ],
   "source": [
    "kernel = ksig.static.kernels.LinearKernel()\n",
    "result1 = kernel(X.reshape((-1, X.shape[-1])), Y.reshape((-1, Y.shape[-1]))).reshape((X.shape[0], X.shape[1], Y.shape[0], Y.shape[1]))\n",
    "result2 = kernel(Y.reshape((-1, Y.shape[-1])), X.reshape((-1, X.shape[-1]))).reshape((Y.shape[0], Y.shape[1], X.shape[0], X.shape[1]))\n",
    "print(result1.shape)\n",
    "print(result1)\n",
    "print(result2)"
   ]
  },
  {
   "cell_type": "code",
   "execution_count": 4,
   "metadata": {},
   "outputs": [
    {
     "data": {
      "text/plain": [
       "array([[[[ 0,  0,  0,  0,  0],\n",
       "         [ 0,  0,  0,  0,  0]],\n",
       "\n",
       "        [[ 0,  1,  2,  3,  4],\n",
       "         [ 0,  2,  4,  6,  8]],\n",
       "\n",
       "        [[ 0,  2,  4,  6,  8],\n",
       "         [ 0,  4,  8, 12, 16]],\n",
       "\n",
       "        [[ 0,  3,  6,  9, 12],\n",
       "         [ 0,  6, 12, 18, 24]],\n",
       "\n",
       "        [[ 0,  4,  8, 12, 16],\n",
       "         [ 0,  8, 16, 24, 32]]],\n",
       "\n",
       "\n",
       "       [[[ 0,  0,  0,  0,  0],\n",
       "         [ 0,  0,  0,  0,  0]],\n",
       "\n",
       "        [[ 0,  2,  4,  6,  8],\n",
       "         [ 0,  4,  8, 12, 16]],\n",
       "\n",
       "        [[ 0,  4,  8, 12, 16],\n",
       "         [ 0,  8, 16, 24, 32]],\n",
       "\n",
       "        [[ 0,  6, 12, 18, 24],\n",
       "         [ 0, 12, 24, 36, 48]],\n",
       "\n",
       "        [[ 0,  8, 16, 24, 32],\n",
       "         [ 0, 16, 32, 48, 64]]]], dtype=int32)"
      ]
     },
     "execution_count": 4,
     "metadata": {},
     "output_type": "execute_result"
    }
   ],
   "source": [
    "M_XX"
   ]
  },
  {
   "cell_type": "markdown",
   "metadata": {},
   "source": [
    "# Diff function"
   ]
  },
  {
   "cell_type": "code",
   "execution_count": 5,
   "metadata": {},
   "outputs": [
    {
     "data": {
      "text/plain": [
       "array([[[[1, 1, 1, 1],\n",
       "         [2, 2, 2, 2]],\n",
       "\n",
       "        [[1, 1, 1, 1],\n",
       "         [2, 2, 2, 2]],\n",
       "\n",
       "        [[1, 1, 1, 1],\n",
       "         [2, 2, 2, 2]],\n",
       "\n",
       "        [[1, 1, 1, 1],\n",
       "         [2, 2, 2, 2]]],\n",
       "\n",
       "\n",
       "       [[[2, 2, 2, 2],\n",
       "         [4, 4, 4, 4]],\n",
       "\n",
       "        [[2, 2, 2, 2],\n",
       "         [4, 4, 4, 4]],\n",
       "\n",
       "        [[2, 2, 2, 2],\n",
       "         [4, 4, 4, 4]],\n",
       "\n",
       "        [[2, 2, 2, 2],\n",
       "         [4, 4, 4, 4]]]], dtype=int32)"
      ]
     },
     "execution_count": 5,
     "metadata": {},
     "output_type": "execute_result"
    }
   ],
   "source": [
    "cp.diff(cp.diff(M_XX, axis=1), axis=-1)"
   ]
  },
  {
   "cell_type": "code",
   "execution_count": 6,
   "metadata": {},
   "outputs": [],
   "source": [
    "n_levels = 5\n",
    "static_kernel = ksig.static.kernels.LinearKernel()\n",
    "sig_kernel = ksig.kernels.SignatureKernel(n_levels, static_kernel=static_kernel, difference=False)"
   ]
  },
  {
   "cell_type": "code",
   "execution_count": 7,
   "metadata": {},
   "outputs": [
    {
     "data": {
      "text/plain": [
       "((3, 10, 1), (3, 10, 1))"
      ]
     },
     "execution_count": 7,
     "metadata": {},
     "output_type": "execute_result"
    }
   ],
   "source": [
    "n_samples = 3\n",
    "sample_len = 10\n",
    "dt = 1 / 252\n",
    "X = ksig.tests.gen_GBM_path(mu=0.1, sigma=0.2, dt=dt, n_paths=n_samples, seq_len=sample_len)\n",
    "Y = ksig.tests.gen_GBM_path(0.1, 0.6, dt, n_samples, sample_len)\n",
    "X.shape, Y.shape"
   ]
  },
  {
   "cell_type": "code",
   "execution_count": 8,
   "metadata": {},
   "outputs": [
    {
     "data": {
      "text/plain": [
       "array([[145712.19746647, 178771.40454248, 114262.5250862 ],\n",
       "       [134518.76291995, 164963.71542871, 105545.99537643],\n",
       "       [146792.29112953, 180104.16400952, 115103.28435911]])"
      ]
     },
     "execution_count": 8,
     "metadata": {},
     "output_type": "execute_result"
    }
   ],
   "source": [
    "sig_kernel(X, Y)"
   ]
  },
  {
   "cell_type": "code",
   "execution_count": 9,
   "metadata": {},
   "outputs": [
    {
     "data": {
      "text/plain": [
       "array([[145712.19746647, 134518.76291995, 146792.29112953],\n",
       "       [178771.40454248, 164963.71542871, 180104.16400952],\n",
       "       [114262.5250862 , 105545.99537643, 115103.28435911]])"
      ]
     },
     "execution_count": 9,
     "metadata": {},
     "output_type": "execute_result"
    }
   ],
   "source": [
    "sig_kernel(Y, X)"
   ]
  },
  {
   "cell_type": "code",
   "execution_count": 10,
   "metadata": {},
   "outputs": [
    {
     "data": {
      "text/plain": [
       "array([[132243.63706094, 122112.29528871, 133221.09697798],\n",
       "       [122112.29528871, 112778.61152517, 123012.68187486],\n",
       "       [133221.09697798, 123012.68187486, 134206.00472499]])"
      ]
     },
     "execution_count": 10,
     "metadata": {},
     "output_type": "execute_result"
    }
   ],
   "source": [
    "sig_kernel(X, X)"
   ]
  },
  {
   "cell_type": "code",
   "execution_count": 11,
   "metadata": {},
   "outputs": [
    {
     "data": {
      "text/plain": [
       "array([[1.14430566e+10, 1.17036821e+10, 1.11591493e+10],\n",
       "       [1.04563394e+10, 1.06944362e+10, 1.01969723e+10],\n",
       "       [1.15389257e+10, 1.18017404e+10, 1.12526337e+10]])"
      ]
     },
     "execution_count": 11,
     "metadata": {},
     "output_type": "execute_result"
    }
   ],
   "source": [
    "sig_kernel(X, Y+10)"
   ]
  },
  {
   "cell_type": "markdown",
   "metadata": {},
   "source": [
    "# Signature kernel function"
   ]
  },
  {
   "cell_type": "code",
   "execution_count": 12,
   "metadata": {},
   "outputs": [],
   "source": [
    "import numpy as np\n",
    "import cupy as cp\n",
    "\n",
    "from numbers import Number, Integral\n",
    "from typing import Optional, Union, List, Tuple\n",
    "\n",
    "ArrayOnCPU = np.ndarray\n",
    "ArrayOnGPU = cp.ndarray\n",
    "ArrayOnCPUOrGPU = Union[cp.ndarray, np.ndarray]"
   ]
  },
  {
   "cell_type": "code",
   "execution_count": 13,
   "metadata": {},
   "outputs": [],
   "source": [
    "from abc import ABCMeta, abstractmethod\n",
    "from sklearn.base import BaseEstimator\n",
    "from ksig import utils\n",
    "\n",
    "class Kernel(BaseEstimator, metaclass=ABCMeta):\n",
    "    \"\"\"Base class for Kernels.\n",
    "\n",
    "    Warning: This class should not be used directly.\n",
    "    Use derived classes instead.\n",
    "    \"\"\"\n",
    "\n",
    "    def fit(self, X : ArrayOnCPUOrGPU, y : Optional[ArrayOnCPUOrGPU] = None):\n",
    "        return self\n",
    "\n",
    "    @abstractmethod\n",
    "    def _K(self, X : ArrayOnGPU, Y : Optional[ArrayOnGPU] = None) -> ArrayOnGPU:\n",
    "        pass\n",
    "\n",
    "    @abstractmethod\n",
    "    def _Kdiag(self, X : ArrayOnGPU) -> ArrayOnGPU:\n",
    "        pass\n",
    "\n",
    "    def __call__(self, X : ArrayOnCPUOrGPU, Y : Optional[ArrayOnCPUOrGPU] = None, diag : bool = False, return_on_gpu : bool = False) -> ArrayOnCPUOrGPU:\n",
    "        X = cp.asarray(X)\n",
    "        Y = cp.asarray(Y) if Y is not None else None\n",
    "        if diag:\n",
    "            K = self._Kdiag(X)\n",
    "        else:\n",
    "            K =  self._K(X, Y)\n",
    "        if not return_on_gpu:\n",
    "            K = cp.asnumpy(K)\n",
    "        return K\n",
    "\n",
    "# ----------------------------------------------------------------------------------------------------------------------------------------------------------------\n",
    "\n",
    "class LinearKernel(Kernel):\n",
    "    \"\"\"Class for linear (static) kernel.\"\"\"\n",
    "\n",
    "    def __init__(self, sigma : float = 1.0) -> None:\n",
    "        self.sigma = utils.check_positive_value(sigma, 'sigma')\n",
    "\n",
    "    def _K(self, X : ArrayOnGPU, Y : Optional[ArrayOnGPU] = None) -> ArrayOnGPU:\n",
    "        return self.sigma**2 * utils.matrix_mult(X, Y, transpose_Y=True)\n",
    "\n",
    "    def _Kdiag(self, X : ArrayOnGPU) -> ArrayOnGPU:\n",
    "        return self.sigma**2 * utils.squared_norm(X, axis=-1)"
   ]
  },
  {
   "cell_type": "code",
   "execution_count": 14,
   "metadata": {},
   "outputs": [],
   "source": [
    "def multi_cumsum(M : ArrayOnGPU, exclusive : bool = False, axis : int = -1) -> ArrayOnGPU:\n",
    "    \"\"\"Computes the exclusive cumulative sum along a given set of axes.\n",
    "\n",
    "    Args:\n",
    "        K (cp.ndarray): A matrix over which to compute the cumulative sum\n",
    "        axis (int or iterable, optional): An axis or a collection of them. Defaults to -1 (the last axis).\n",
    "    \"\"\"\n",
    "\n",
    "    ndim = M.ndim\n",
    "    axis = [axis] if cp.isscalar(axis) else axis\n",
    "    axis = [ndim+ax if ax < 0 else ax for ax in axis]\n",
    "\n",
    "    # create slice for exclusive cumsum (slice off last element along given axis then pre-pad with zeros)\n",
    "    if exclusive:\n",
    "        slices = tuple(slice(-1) if ax in axis else slice(None) for ax in range(ndim))\n",
    "        M = M[slices]\n",
    "\n",
    "    # compute actual cumsums\n",
    "    for ax in axis:\n",
    "        M = cp.cumsum(M, axis=ax)\n",
    "\n",
    "    # pre-pad with zeros along the given axis if exclusive cumsum\n",
    "    if exclusive:\n",
    "        pads = tuple((1, 0) if ax in axis else (0, 0) for ax in range(ndim))\n",
    "        M = cp.pad(M, pads)\n",
    "\n",
    "    return M"
   ]
  },
  {
   "cell_type": "code",
   "execution_count": 15,
   "metadata": {},
   "outputs": [],
   "source": [
    "def signature_kern_higher_order(M : ArrayOnGPU, n_levels : int, order : int, difference : bool = True, return_levels : bool = False) -> ArrayOnGPU:\n",
    "    \"\"\"\n",
    "    Computes the signature kernel matrix with higher-order embedding into the tensor algebra.\n",
    "    \"\"\"\n",
    "\n",
    "    if difference:\n",
    "        M = cp.diff(cp.diff(M, axis=1), axis=-1)\n",
    "\n",
    "    if M.ndim == 4:\n",
    "        n_X, n_Y = M.shape[0], M.shape[2]\n",
    "        K = cp.ones((n_X, n_Y), dtype=M.dtype)\n",
    "    else:\n",
    "        n_X = M.shape[0]\n",
    "        K = cp.ones((n_X,), dtype=M.dtype)\n",
    "\n",
    "    if return_levels:\n",
    "        K = [K, cp.sum(M, axis=(1, -1))]\n",
    "    else:\n",
    "        K += cp.sum(M, axis=(1, -1))\n",
    "\n",
    "    R = cp.copy(M)[None, None, ...]\n",
    "    for i in range(1, n_levels):\n",
    "        d = min(i+1, order)\n",
    "        R_next = cp.empty((d, d) + M.shape, dtype=M.dtype)\n",
    "        R_next[0, 0] = M * multi_cumsum(cp.sum(R, axis=(0, 1)), exclusive=True, axis=(1, -1))\n",
    "        for r in range(1, d):\n",
    "            R_next[0, r] = 1./(r+1) * M * multi_cumsum(cp.sum(R[:, r-1], axis=0), exclusive=True, axis=1)\n",
    "            R_next[r, 0] = 1./(r+1) * M * multi_cumsum(cp.sum(R[r-1, :], axis=0), exclusive=True, axis=-1)\n",
    "            for s in range(1, d):\n",
    "                R_next[r, s] = 1./((r+1)*(s+1)) * M * R[r-1, s-1]\n",
    "        R = R_next\n",
    "        if return_levels:\n",
    "            K.append(cp.sum(R, axis=(0, 1, 3, -1)))\n",
    "        else:\n",
    "            K += cp.sum(R, axis=(0, 1, 3, -1))\n",
    "\n",
    "    return cp.stack(K, axis=0) if return_levels else K"
   ]
  },
  {
   "cell_type": "markdown",
   "metadata": {},
   "source": [
    "# Order parameter"
   ]
  },
  {
   "cell_type": "code",
   "execution_count": 16,
   "metadata": {},
   "outputs": [],
   "source": [
    "# simulate geometric Brownian motion paths\n",
    "X = ksig.tests.gen_GBM_path(mu=0.1, sigma=0.2, dt=0.1, n_paths=3, seq_len=60)\n",
    "Y = ksig.tests.gen_GBM_path(0.1, 0.3, 0.1, 3, 60)"
   ]
  },
  {
   "cell_type": "code",
   "execution_count": 17,
   "metadata": {},
   "outputs": [
    {
     "data": {
      "text/plain": [
       "((3, 60, 3, 60), (3, 60, 3, 60), (3, 60, 3, 60), (3, 60, 3, 60))"
      ]
     },
     "execution_count": 17,
     "metadata": {},
     "output_type": "execute_result"
    }
   ],
   "source": [
    "static_kernel = LinearKernel()\n",
    "\n",
    "# M = static_kernel(X, diag=True, return_on_gpu=True)\n",
    "\n",
    "M_X = static_kernel(X.reshape((-1, X.shape[-1])), return_on_gpu=True).reshape((X.shape[0], X.shape[1], X.shape[0], X.shape[1]))\n",
    "M_Y = static_kernel(Y.reshape((-1, Y.shape[-1])), return_on_gpu=True).reshape((Y.shape[0], Y.shape[1], Y.shape[0], Y.shape[1]))\n",
    "M_XY = static_kernel(X.reshape((-1, X.shape[-1])), Y.reshape((-1, Y.shape[-1])), return_on_gpu=True).reshape((X.shape[0], X.shape[1], Y.shape[0], Y.shape[1]))\n",
    "M_YX = static_kernel(Y.reshape((-1, Y.shape[-1])), X.reshape((-1, X.shape[-1])), return_on_gpu=True).reshape((Y.shape[0], Y.shape[1], X.shape[0], X.shape[1]))\n",
    "M_X.shape, M_Y.shape, M_XY.shape, M_YX.shape"
   ]
  },
  {
   "cell_type": "code",
   "execution_count": 18,
   "metadata": {},
   "outputs": [],
   "source": [
    "# calculate the signature kernel using different order values\n",
    "n_levels = 5\n",
    "order = 5\n",
    "\n",
    "sig_orders = []\n",
    "for i in range(1, n_levels+1):\n",
    "    sig_XY = signature_kern_higher_order(M_XY, n_levels, i, return_levels=True, difference=True)\n",
    "    sig_orders.append(sig_XY)"
   ]
  },
  {
   "cell_type": "code",
   "execution_count": 19,
   "metadata": {},
   "outputs": [
    {
     "name": "stdout",
     "output_type": "stream",
     "text": [
      "Order: 1 vs 2\n",
      "level 0 True\n",
      "level 1 True\n",
      "level 2 False\n",
      "level 3 False\n",
      "level 4 False\n",
      "level 5 False\n",
      "Order: 2 vs 3\n",
      "level 0 True\n",
      "level 1 True\n",
      "level 2 True\n",
      "level 3 False\n",
      "level 4 False\n",
      "level 5 False\n",
      "Order: 3 vs 4\n",
      "level 0 True\n",
      "level 1 True\n",
      "level 2 True\n",
      "level 3 True\n",
      "level 4 False\n",
      "level 5 False\n",
      "Order: 4 vs 5\n",
      "level 0 True\n",
      "level 1 True\n",
      "level 2 True\n",
      "level 3 True\n",
      "level 4 True\n",
      "level 5 False\n"
     ]
    }
   ],
   "source": [
    "# check which levels are the same for each order value\n",
    "for i in range(n_levels-1):\n",
    "    pair = np.array([0, 1]) + i\n",
    "    if not np.allclose(sig_orders[pair[0]], sig_orders[pair[1]]):\n",
    "        print(f'Order: {pair[0]+1} vs {pair[1]+1}')\n",
    "        for i in range(n_levels+1):\n",
    "            print(f'level {i}', np.allclose(sig_orders[pair[0]][i], sig_orders[pair[1]][i]))"
   ]
  },
  {
   "cell_type": "markdown",
   "metadata": {},
   "source": [
    "# Tensor normalisation for characteristic signature kernel"
   ]
  },
  {
   "cell_type": "code",
   "execution_count": 20,
   "metadata": {},
   "outputs": [],
   "source": [
    "# two functions used to compute the normalisation constant\n",
    "def psi(x, a=1, c=4):\n",
    "    x = c+c**(1+a)*(c**-a - x**-a)/a if x>4 else x\n",
    "    return x\n",
    "\n",
    "def norm_func(lamda, norms, norm_sum, a=1, c=4):\n",
    "    m = len(norms)\n",
    "    lamda = np.ones(m) * lamda\n",
    "    powers = np.arange(m) * 2\n",
    "    return np.sum(norms * np.power(lamda, powers)) - psi(norm_sum, a, c)"
   ]
  },
  {
   "cell_type": "code",
   "execution_count": 22,
   "metadata": {},
   "outputs": [
    {
     "data": {
      "text/plain": [
       "((3, 3), (3, 3), (3, 3), (3, 3), (6, 3, 3), (6, 3, 3), (6, 3, 3), (6, 3, 3))"
      ]
     },
     "execution_count": 22,
     "metadata": {},
     "output_type": "execute_result"
    }
   ],
   "source": [
    "n_levels = 5\n",
    "order = 5\n",
    "difference = True\n",
    "sig_levels_XY = signature_kern_higher_order(M_XY, n_levels, order, return_levels=True, difference=difference)\n",
    "sig_XY = signature_kern_higher_order(M_XY, n_levels, order, return_levels=False, difference=difference)\n",
    "sig_levels_YX = signature_kern_higher_order(M_YX, n_levels, order, return_levels=True, difference=difference)\n",
    "sig_YX = signature_kern_higher_order(M_YX, n_levels, order, return_levels=False, difference=difference)\n",
    "sig_levels_X = signature_kern_higher_order(M_X, n_levels, order, return_levels=True, difference=difference)\n",
    "sig_X = signature_kern_higher_order(M_X, n_levels, order, return_levels=False, difference=difference)\n",
    "sig_levels_Y = signature_kern_higher_order(M_Y, n_levels, order, return_levels=True, difference=difference)\n",
    "sig_Y = signature_kern_higher_order(M_Y, n_levels, order, return_levels=False, difference=difference)\n",
    "sig_XY.shape, sig_YX.shape, sig_X.shape, sig_Y.shape, sig_levels_XY.shape, sig_levels_YX.shape, sig_levels_X.shape, sig_levels_Y.shape"
   ]
  },
  {
   "cell_type": "code",
   "execution_count": 35,
   "metadata": {},
   "outputs": [
    {
     "data": {
      "text/plain": [
       "(array(True), array(True), array(True))"
      ]
     },
     "execution_count": 35,
     "metadata": {},
     "output_type": "execute_result"
    }
   ],
   "source": [
    "# check that the signature kernel is symmetric\n",
    "np.allclose(sig_XY, sig_YX.T), np.allclose(sig_X, sig_X.T), np.allclose(sig_Y, sig_Y.T)"
   ]
  },
  {
   "cell_type": "code",
   "execution_count": 24,
   "metadata": {},
   "outputs": [
    {
     "data": {
      "text/plain": [
       "array([[1.00000000e+00, 1.00000000e+00, 1.00000000e+00],\n",
       "       [2.28482214e+00, 2.74430363e-01, 2.42848225e+00],\n",
       "       [1.30510306e+00, 1.88280060e-02, 1.47438151e+00],\n",
       "       [3.31325373e-01, 5.74108503e-04, 3.97834369e-01],\n",
       "       [4.73137218e-02, 9.84705029e-06, 6.03833565e-02],\n",
       "       [4.32413757e-03, 1.08093183e-07, 5.86559638e-03]])"
      ]
     },
     "execution_count": 24,
     "metadata": {},
     "output_type": "execute_result"
    }
   ],
   "source": [
    "# gets the squared norm of each level of the signature tensor\n",
    "ksig.utils.matrix_diag(sig_levels_X) # (normsq of level 0 for all paths, normsq of level 1 for all paths, ...)"
   ]
  },
  {
   "cell_type": "code",
   "execution_count": 25,
   "metadata": {},
   "outputs": [],
   "source": [
    "M = M_X\n",
    "C = 4.0\n",
    "\n",
    "M = cp.diff(cp.diff(M, axis=1), axis=-1)\n",
    "\n",
    "if M.ndim == 4:\n",
    "    n_X, n_Y = M.shape[0], M.shape[2]\n",
    "    K = cp.ones((n_X, n_Y), dtype=M.dtype)\n",
    "else:\n",
    "    n_X = M.shape[0]\n",
    "    K = cp.ones((n_X,), dtype=M.dtype)\n",
    "\n",
    "K = [K, cp.sum(M, axis=(1, -1))]\n",
    "\n",
    "R = cp.copy(M)[None, None, ...]\n",
    "for i in range(1, n_levels):\n",
    "    d = min(i+1, order)\n",
    "    R_next = cp.empty((d, d) + M.shape, dtype=M.dtype)\n",
    "    R_next[0, 0] = M * multi_cumsum(cp.sum(R, axis=(0, 1)), exclusive=True, axis=(1, -1))\n",
    "    for r in range(1, d):\n",
    "        R_next[0, r] = 1./(r+1) * M * multi_cumsum(cp.sum(R[:, r-1], axis=0), exclusive=True, axis=1)\n",
    "        R_next[r, 0] = 1./(r+1) * M * multi_cumsum(cp.sum(R[r-1, :], axis=0), exclusive=True, axis=-1)\n",
    "        for s in range(1, d):\n",
    "            R_next[r, s] = 1./((r+1)*(s+1)) * M * R[r-1, s-1]\n",
    "    R = R_next\n",
    "    K.append(cp.sum(R, axis=(0, 1, 3, -1)))\n",
    "\n",
    "K = cp.asarray(K)\n",
    "# get diagonal of signature kernel matrix and transpose to get tensor norm^2 for each level of each path in X\n",
    "normsq_levels = ksig.utils.matrix_diag(K).T\n",
    "# get the norm^2 of the signature by summing the norm^2 of each level\n",
    "normsq = np.sum(normsq_levels, axis=1)\n",
    "# check if norm^2 is greater than C for each signature to see if normalisation is required\n",
    "norm_condition = normsq > C"
   ]
  },
  {
   "cell_type": "code",
   "execution_count": 26,
   "metadata": {},
   "outputs": [
    {
     "data": {
      "text/plain": [
       "(array([4.97288843, 1.29384243, 5.36694708]), array([ True, False,  True]))"
      ]
     },
     "execution_count": 26,
     "metadata": {},
     "output_type": "execute_result"
    }
   ],
   "source": [
    "normsq, norm_condition"
   ]
  },
  {
   "cell_type": "code",
   "execution_count": 27,
   "metadata": {},
   "outputs": [
    {
     "data": {
      "text/plain": [
       "array([0.98405751, 1.        , 0.97360186])"
      ]
     },
     "execution_count": 27,
     "metadata": {},
     "output_type": "execute_result"
    }
   ],
   "source": [
    "# solve for the normalisation constant for each path\n",
    "from scipy.optimize import brentq\n",
    "lamdas = np.ones(n_samples)\n",
    "for i in range(n_samples):\n",
    "    if norm_condition[i]:\n",
    "        lamdas[i] = brentq(norm_func, 0, 1, args=(cp.asnumpy(normsq_levels[i]), cp.asnumpy(normsq[i]).sum(), 1, C))\n",
    "lamdas"
   ]
  },
  {
   "cell_type": "code",
   "execution_count": 41,
   "metadata": {},
   "outputs": [
    {
     "data": {
      "text/plain": [
       "(array([[[1.        , 1.        , 1.        ],\n",
       "         [1.        , 1.        , 1.        ],\n",
       "         [1.        , 1.        , 1.        ]],\n",
       " \n",
       "        [[0.96836918, 0.98405751, 0.95808022],\n",
       "         [0.98405751, 1.        , 0.97360186],\n",
       "         [0.95808022, 0.97360186, 0.94790058]],\n",
       " \n",
       "        [[0.93773887, 0.96836918, 0.91791771],\n",
       "         [0.96836918, 1.        , 0.94790058],\n",
       "         [0.91791771, 0.94790058, 0.89851551]],\n",
       " \n",
       "        [[0.90807742, 0.95293096, 0.8794388 ],\n",
       "         [0.95293096, 1.        , 0.92287777],\n",
       "         [0.8794388 , 0.92287777, 0.85170337]],\n",
       " \n",
       "        [[0.87935419, 0.93773887, 0.84257292],\n",
       "         [0.93773887, 1.        , 0.89851551],\n",
       "         [0.84257292, 0.89851551, 0.80733012]],\n",
       " \n",
       "        [[0.8515395 , 0.92278898, 0.80725245],\n",
       "         [0.92278898, 1.        , 0.87479637],\n",
       "         [0.80725245, 0.87479637, 0.76526869]]]),\n",
       " (6, 3, 3),\n",
       " (6, 3, 3))"
      ]
     },
     "execution_count": 41,
     "metadata": {},
     "output_type": "execute_result"
    }
   ],
   "source": [
    "# create the normalisation constant raised to the power for each level\n",
    "m_lamdas = lamdas[:,np.newaxis] @ lamdas[np.newaxis,:]\n",
    "m_lamdas = np.power(m_lamdas, np.arange(n_levels+1)[:, np.newaxis, np.newaxis])\n",
    "m_lamdas, m_lamdas.shape, K.shape"
   ]
  },
  {
   "cell_type": "code",
   "execution_count": 24,
   "metadata": {},
   "outputs": [
    {
     "name": "stdout",
     "output_type": "stream",
     "text": [
      "[[[0 9 9]\n",
      "  [8 0 1]\n",
      "  [7 9 8]]\n",
      "\n",
      " [[0 5 4]\n",
      "  [6 9 8]\n",
      "  [7 2 7]]\n",
      "\n",
      " [[8 6 4]\n",
      "  [3 6 8]\n",
      "  [0 9 2]]\n",
      "\n",
      " [[0 0 7]\n",
      "  [5 1 1]\n",
      "  [6 0 7]]\n",
      "\n",
      " [[8 1 8]\n",
      "  [5 5 5]\n",
      "  [0 9 5]]]\n"
     ]
    },
    {
     "data": {
      "text/plain": [
       "array([[0, 0, 8, 0, 8],\n",
       "       [0, 9, 6, 1, 5],\n",
       "       [8, 7, 2, 7, 5]])"
      ]
     },
     "execution_count": 24,
     "metadata": {},
     "output_type": "execute_result"
    }
   ],
   "source": [
    "# test how to extract digonal of 2D matrix from tensor of 2D matrices\n",
    "test = cp.asarray(np.random.randint(0, 10, size=(5, 3, 3)))\n",
    "print(test)\n",
    "ksig.utils.matrix_diag(test).T"
   ]
  },
  {
   "cell_type": "markdown",
   "metadata": {},
   "source": [
    "# Permutations of kernel matrix"
   ]
  },
  {
   "cell_type": "code",
   "execution_count": 46,
   "metadata": {},
   "outputs": [],
   "source": [
    "import numpy as np\n",
    "from itertools import product\n",
    "n = 4\n",
    "m = 4"
   ]
  },
  {
   "cell_type": "code",
   "execution_count": 47,
   "metadata": {},
   "outputs": [
    {
     "name": "stdout",
     "output_type": "stream",
     "text": [
      "[1 3 2 0 4 5 7 6]\n",
      "[1 3 2 0]\n",
      "[4 5 7 6]\n"
     ]
    }
   ],
   "source": [
    "# permutation based on sum of sizes\n",
    "perm_inds = np.random.permutation(m+n)\n",
    "X_inds = perm_inds[:n]\n",
    "Y_inds = perm_inds[n:]\n",
    "\n",
    "print(perm_inds)\n",
    "print(X_inds)\n",
    "print(Y_inds)"
   ]
  },
  {
   "cell_type": "code",
   "execution_count": 48,
   "metadata": {},
   "outputs": [
    {
     "name": "stdout",
     "output_type": "stream",
     "text": [
      "[[ 0  1  2  3]\n",
      " [ 4  5  6  7]\n",
      " [ 8  9 10 11]\n",
      " [12 13 14 15]]\n",
      "[[16 17 18 19]\n",
      " [20 21 22 23]\n",
      " [24 25 26 27]\n",
      " [28 29 30 31]]\n",
      "[[32 33 34 35]\n",
      " [36 37 38 39]\n",
      " [40 41 42 43]\n",
      " [44 45 46 47]]\n"
     ]
    }
   ],
   "source": [
    "# create the kernel matrices\n",
    "K_XX = np.arange(n*n).reshape((n,n))\n",
    "K_YY = np.arange(m*m).reshape((m,m)) + n*n\n",
    "K_XY = np.arange(n*m).reshape((n,m)) + n*n + m*m\n",
    "\n",
    "print(K_XX)\n",
    "print(K_YY)\n",
    "print(K_XY)"
   ]
  },
  {
   "cell_type": "code",
   "execution_count": 49,
   "metadata": {},
   "outputs": [],
   "source": [
    "# function to get the cartesian product of two array of indices\n",
    "def cartesian_product(*arrays):\n",
    "    la = len(arrays)\n",
    "    dtype = np.result_type(*arrays)\n",
    "    arr = np.empty([len(a) for a in arrays] + [la], dtype=dtype)\n",
    "    for i, a in enumerate(np.ix_(*arrays)):\n",
    "        arr[...,i] = a\n",
    "    return arr.reshape(-1, la)"
   ]
  },
  {
   "cell_type": "code",
   "execution_count": 50,
   "metadata": {},
   "outputs": [
    {
     "data": {
      "text/plain": [
       "(array([3, 2, 0]), array([1]), array([1]), array([0, 2, 3]))"
      ]
     },
     "execution_count": 50,
     "metadata": {},
     "output_type": "execute_result"
    }
   ],
   "source": [
    "# permutation based on number to draw from each set then permute within each set\n",
    "perm_inds_X = np.random.permutation(n)\n",
    "perm_inds_Y = np.random.permutation(m)\n",
    "p = np.random.randint(0, n+1)\n",
    "X_inds_sample_1 = perm_inds_X[:p]\n",
    "Y_inds_sample_1 = perm_inds_Y[:n-p]\n",
    "X_inds_sample_2 = perm_inds_X[p:]\n",
    "Y_inds_sample_2 = perm_inds_Y[n-p:]\n",
    "X_inds_sample_1, Y_inds_sample_1, X_inds_sample_2, Y_inds_sample_2"
   ]
  },
  {
   "cell_type": "code",
   "execution_count": 51,
   "metadata": {},
   "outputs": [
    {
     "data": {
      "text/plain": [
       "array([[3, 3],\n",
       "       [3, 2],\n",
       "       [3, 0],\n",
       "       [2, 3],\n",
       "       [2, 2],\n",
       "       [2, 0],\n",
       "       [0, 3],\n",
       "       [0, 2],\n",
       "       [0, 0]])"
      ]
     },
     "execution_count": 51,
     "metadata": {},
     "output_type": "execute_result"
    }
   ],
   "source": [
    "cartesian_product(X_inds_sample_1, X_inds_sample_1)\n",
    "# ok to leave diagonals of the kernel matrix in as they will be zeroed out"
   ]
  },
  {
   "cell_type": "code",
   "execution_count": 52,
   "metadata": {},
   "outputs": [
    {
     "name": "stdout",
     "output_type": "stream",
     "text": [
      "[[ 0  1  2  3]\n",
      " [ 4  5  6  7]\n",
      " [ 8  9 10 11]\n",
      " [12 13 14 15]]\n"
     ]
    },
    {
     "data": {
      "text/plain": [
       "array([[15, 14, 12],\n",
       "       [11, 10,  8],\n",
       "       [ 3,  2,  0]])"
      ]
     },
     "execution_count": 52,
     "metadata": {},
     "output_type": "execute_result"
    }
   ],
   "source": [
    "print(K_XX)\n",
    "K_XX[np.ix_(X_inds_sample_1, X_inds_sample_1)]"
   ]
  },
  {
   "cell_type": "code",
   "execution_count": 53,
   "metadata": {},
   "outputs": [
    {
     "data": {
      "text/plain": [
       "array([[1, 1]])"
      ]
     },
     "execution_count": 53,
     "metadata": {},
     "output_type": "execute_result"
    }
   ],
   "source": [
    "cartesian_product(Y_inds_sample_1, Y_inds_sample_1)"
   ]
  },
  {
   "cell_type": "code",
   "execution_count": 54,
   "metadata": {},
   "outputs": [
    {
     "name": "stdout",
     "output_type": "stream",
     "text": [
      "[[16 17 18 19]\n",
      " [20 21 22 23]\n",
      " [24 25 26 27]\n",
      " [28 29 30 31]]\n"
     ]
    },
    {
     "data": {
      "text/plain": [
       "array([[21]])"
      ]
     },
     "execution_count": 54,
     "metadata": {},
     "output_type": "execute_result"
    }
   ],
   "source": [
    "print(K_YY)\n",
    "K_YY[np.ix_(Y_inds_sample_1, Y_inds_sample_1)]"
   ]
  },
  {
   "cell_type": "code",
   "execution_count": 55,
   "metadata": {},
   "outputs": [
    {
     "data": {
      "text/plain": [
       "array([[3, 1],\n",
       "       [2, 1],\n",
       "       [0, 1]])"
      ]
     },
     "execution_count": 55,
     "metadata": {},
     "output_type": "execute_result"
    }
   ],
   "source": [
    "cartesian_product(X_inds_sample_1, Y_inds_sample_1)"
   ]
  },
  {
   "cell_type": "code",
   "execution_count": 56,
   "metadata": {},
   "outputs": [
    {
     "name": "stdout",
     "output_type": "stream",
     "text": [
      "[[32 33 34 35]\n",
      " [36 37 38 39]\n",
      " [40 41 42 43]\n",
      " [44 45 46 47]]\n"
     ]
    },
    {
     "data": {
      "text/plain": [
       "array([[45],\n",
       "       [41],\n",
       "       [33]])"
      ]
     },
     "execution_count": 56,
     "metadata": {},
     "output_type": "execute_result"
    }
   ],
   "source": [
    "print(K_XY)\n",
    "K_XY[np.ix_(X_inds_sample_1, Y_inds_sample_1)]"
   ]
  },
  {
   "cell_type": "code",
   "execution_count": 57,
   "metadata": {},
   "outputs": [
    {
     "data": {
      "text/plain": [
       "array([[3, 1],\n",
       "       [2, 1],\n",
       "       [0, 1]])"
      ]
     },
     "execution_count": 57,
     "metadata": {},
     "output_type": "execute_result"
    }
   ],
   "source": [
    "cartesian_product(X_inds_sample_1, X_inds_sample_2)"
   ]
  },
  {
   "cell_type": "code",
   "execution_count": 58,
   "metadata": {},
   "outputs": [
    {
     "data": {
      "text/plain": [
       "array([[1, 0],\n",
       "       [1, 2],\n",
       "       [1, 3]])"
      ]
     },
     "execution_count": 58,
     "metadata": {},
     "output_type": "execute_result"
    }
   ],
   "source": [
    "cartesian_product(Y_inds_sample_1, Y_inds_sample_2)"
   ]
  },
  {
   "cell_type": "code",
   "execution_count": 59,
   "metadata": {},
   "outputs": [
    {
     "data": {
      "text/plain": [
       "array([[3, 0],\n",
       "       [3, 2],\n",
       "       [3, 3],\n",
       "       [2, 0],\n",
       "       [2, 2],\n",
       "       [2, 3],\n",
       "       [0, 0],\n",
       "       [0, 2],\n",
       "       [0, 3]])"
      ]
     },
     "execution_count": 59,
     "metadata": {},
     "output_type": "execute_result"
    }
   ],
   "source": [
    "cartesian_product(X_inds_sample_1, Y_inds_sample_2)"
   ]
  },
  {
   "cell_type": "code",
   "execution_count": 60,
   "metadata": {},
   "outputs": [
    {
     "data": {
      "text/plain": [
       "array([[1, 1]])"
      ]
     },
     "execution_count": 60,
     "metadata": {},
     "output_type": "execute_result"
    }
   ],
   "source": [
    "cartesian_product(X_inds_sample_2, Y_inds_sample_1)"
   ]
  },
  {
   "cell_type": "markdown",
   "metadata": {},
   "source": [
    "## Verify"
   ]
  },
  {
   "cell_type": "code",
   "execution_count": 128,
   "metadata": {},
   "outputs": [
    {
     "data": {
      "text/plain": [
       "((50, 60, 1), (50, 60, 1), (100, 60, 1))"
      ]
     },
     "execution_count": 128,
     "metadata": {},
     "output_type": "execute_result"
    }
   ],
   "source": [
    "import sigkernel as ksig\n",
    "import numpy as np\n",
    "np.set_printoptions(precision=5, suppress=True)\n",
    "n_paths = 50\n",
    "X = ksig.tests.gen_GBM_path(mu=0.1, sigma=0.2, dt=0.1, n_paths=n_paths, seq_len=60)\n",
    "Y = ksig.tests.gen_GBM_path(0.2, 0.4, 0.1, n_paths, 60)\n",
    "Z = np.concatenate([X, Y], axis=0)\n",
    "X.shape, Y.shape, Z.shape"
   ]
  },
  {
   "cell_type": "code",
   "execution_count": 129,
   "metadata": {},
   "outputs": [],
   "source": [
    "static_kernel = ksig.static.kernels.LinearKernel()"
   ]
  },
  {
   "cell_type": "code",
   "execution_count": 130,
   "metadata": {},
   "outputs": [
    {
     "data": {
      "text/plain": [
       "((50, 60, 50, 60), (50, 60, 50, 60), (50, 60, 50, 60))"
      ]
     },
     "execution_count": 130,
     "metadata": {},
     "output_type": "execute_result"
    }
   ],
   "source": [
    "M_X = static_kernel(X.reshape((-1, X.shape[-1])), return_on_gpu=True).reshape((X.shape[0], X.shape[1], X.shape[0], X.shape[1]))\n",
    "M_Y = static_kernel(Y.reshape((-1, Y.shape[-1])), return_on_gpu=True).reshape((Y.shape[0], Y.shape[1], Y.shape[0], Y.shape[1]))\n",
    "M_XY = static_kernel(X.reshape((-1, X.shape[-1])), Y.reshape((-1, Y.shape[-1])), return_on_gpu=True).reshape((X.shape[0], X.shape[1], Y.shape[0], Y.shape[1]))\n",
    "M_X.shape, M_Y.shape, M_XY.shape"
   ]
  },
  {
   "cell_type": "code",
   "execution_count": 131,
   "metadata": {},
   "outputs": [],
   "source": [
    "from ksig.algorithms import signature_kern_higher_order\n",
    "n_levels = 4\n",
    "order = 4\n",
    "difference = True\n",
    "K_XX = signature_kern_higher_order(M_X, n_levels, order, return_levels=False, difference=difference)\n",
    "K_YY = signature_kern_higher_order(M_Y, n_levels, order, return_levels=False, difference=difference)\n",
    "K_XY = signature_kern_higher_order(M_XY, n_levels, order, return_levels=False, difference=difference)\n",
    "np.fill_diagonal(K_XX, 0)\n",
    "np.fill_diagonal(K_YY, 0)"
   ]
  },
  {
   "cell_type": "code",
   "execution_count": 132,
   "metadata": {},
   "outputs": [],
   "source": [
    "def get_permuted_kernel_sum(K_XX, K_YY, K_XY, inds_X, inds_Y):\n",
    "    '''\n",
    "    Calculate the sum of the permuted gram matrix\n",
    "    gram_X: np.array of shape (n, n)\n",
    "    gram_Y: np.array of shape (m, m)\n",
    "    inds_X: 1D np.array up to size n and containing integers in [0,n]\n",
    "    inds_Y: 1D np.array up to size m and containing integers in [0,m]\n",
    "    '''\n",
    "    if len(inds_X) == 0:\n",
    "        return np.sum(K_YY)\n",
    "    elif len(inds_Y) == 0:\n",
    "        return np.sum(K_XX)\n",
    "    else:\n",
    "        return np.sum(K_XX[np.ix_(inds_X, inds_X)]) + np.sum(K_YY[np.ix_(inds_Y, inds_Y)]) + 2 * np.sum(K_XY[np.ix_(inds_X, inds_Y)])\n",
    "\n",
    "def get_permuted_cross_kernel_sum(K_XX, K_YY, K_XY, inds_X_1, inds_Y_1, inds_X_2, inds_Y_2):\n",
    "    '''\n",
    "    Calculate the sum of the permuted cross gram matrix\n",
    "    '''\n",
    "    if len(inds_X_1) == 0:\n",
    "        assert len(inds_Y_2) == 0, 'if inds_X_1 is empty then inds_Y_2 must also be empty'\n",
    "        return np.sum(K_XY)\n",
    "    elif len(inds_Y_1) == 0:\n",
    "        assert len(inds_X_2) == 0, 'if inds_Y_1 is empty then inds_X_2 must also be empty'\n",
    "        return np.sum(K_XY)\n",
    "    else:\n",
    "        return (np.sum(K_XX[np.ix_(inds_X_1, inds_X_2)]) +\n",
    "                np.sum(K_YY[np.ix_(inds_Y_1, inds_Y_2)]) +\n",
    "                np.sum(K_XY[np.ix_(inds_X_1, inds_Y_2)]) +\n",
    "                np.sum(K_XY[np.ix_(inds_X_2, inds_Y_1)]))"
   ]
  },
  {
   "cell_type": "code",
   "execution_count": 133,
   "metadata": {},
   "outputs": [
    {
     "data": {
      "text/plain": [
       "(array([ 0,  1,  2,  3,  4,  5,  6,  7,  8,  9, 10, 11, 12, 13, 14, 15, 16,\n",
       "        17, 18, 19, 20, 21, 22, 23, 24, 25, 26, 27, 28, 29, 30, 31, 32, 33,\n",
       "        34, 35, 36, 37, 38, 39, 40, 41, 42, 43, 44, 45, 46, 47, 48, 49]),\n",
       " array([], dtype=float64),\n",
       " array([], dtype=float64),\n",
       " array([ 0,  1,  2,  3,  4,  5,  6,  7,  8,  9, 10, 11, 12, 13, 14, 15, 16,\n",
       "        17, 18, 19, 20, 21, 22, 23, 24, 25, 26, 27, 28, 29, 30, 31, 32, 33,\n",
       "        34, 35, 36, 37, 38, 39, 40, 41, 42, 43, 44, 45, 46, 47, 48, 49]))"
      ]
     },
     "execution_count": 133,
     "metadata": {},
     "output_type": "execute_result"
    }
   ],
   "source": [
    "# edge case of same samples returned\n",
    "X_inds_sample_1 = np.arange(n_paths)\n",
    "Y_inds_sample_1 = np.array([])\n",
    "X_inds_sample_2 = np.array([])\n",
    "Y_inds_sample_2 = np.arange(n_paths)\n",
    "sample_1 = np.arange(n_paths)\n",
    "sample_2 = np.arange(n_paths) + n_paths\n",
    "X_inds_sample_1, Y_inds_sample_1, X_inds_sample_2, Y_inds_sample_2"
   ]
  },
  {
   "cell_type": "code",
   "execution_count": 134,
   "metadata": {},
   "outputs": [
    {
     "data": {
      "text/plain": [
       "(array([27,  2, 41,  1,  4, 36, 32, 45,  3, 18,  5, 11, 26, 49,  7, 22, 13,\n",
       "        34, 30, 15, 37,  8,  6, 17, 43]),\n",
       " array([29, 39,  7, 13, 42, 49, 12, 40, 35, 41, 14, 15, 43,  1, 46, 45, 17,\n",
       "         0,  3, 32, 28,  2, 47, 34, 21]),\n",
       " array([39, 31, 10, 24,  9, 19, 42, 23, 12, 40, 20, 48, 16,  0, 38, 46, 44,\n",
       "        21, 35, 29, 47, 25, 14, 28, 33]),\n",
       " array([11, 26,  5, 36, 44,  4,  8, 18, 22, 19,  6, 23, 25,  9, 10, 33, 38,\n",
       "        30, 20, 31, 27, 48, 37, 16, 24]))"
      ]
     },
     "execution_count": 134,
     "metadata": {},
     "output_type": "execute_result"
    }
   ],
   "source": [
    "p = np.random.permutation(2*n_paths)\n",
    "sample_1 = p[:n_paths]\n",
    "X_inds_sample_1 = sample_1[sample_1 < n_paths]\n",
    "Y_inds_sample_1 = sample_1[sample_1 >= n_paths] - n_paths\n",
    "sample_2 = p[n_paths:]\n",
    "X_inds_sample_2 = sample_2[sample_2 < n_paths]\n",
    "Y_inds_sample_2 = sample_2[sample_2 >= n_paths] - n_paths\n",
    "X_inds_sample_1, Y_inds_sample_1, X_inds_sample_2, Y_inds_sample_2"
   ]
  },
  {
   "cell_type": "code",
   "execution_count": 135,
   "metadata": {},
   "outputs": [
    {
     "data": {
      "text/plain": [
       "(array(0.), array(0.), array(0.))"
      ]
     },
     "execution_count": 135,
     "metadata": {},
     "output_type": "execute_result"
    }
   ],
   "source": [
    "# compute efficient kernel sums\n",
    "# from sigkernel.tests import get_permuted_kernel_sum, get_permuted_cross_kernel_sum\n",
    "perm_K_XX_sum = get_permuted_kernel_sum(K_XX, K_YY, K_XY, X_inds_sample_1, Y_inds_sample_1)\n",
    "perm_K_YY_sum = get_permuted_kernel_sum(K_XX, K_YY, K_XY, X_inds_sample_2, Y_inds_sample_2)\n",
    "perm_K_XY_sum = get_permuted_cross_kernel_sum(K_XX, K_YY, K_XY, X_inds_sample_1, Y_inds_sample_1, X_inds_sample_2, Y_inds_sample_2)\n",
    "\n",
    "# compute quadratic kernel sums\n",
    "X_ = Z[sample_1]\n",
    "Y_ = Z[sample_2]\n",
    "M_X = static_kernel(X_.reshape((-1, X_.shape[-1])), return_on_gpu=True).reshape((X_.shape[0], X_.shape[1], X_.shape[0], X_.shape[1]))\n",
    "M_Y = static_kernel(Y_.reshape((-1, Y_.shape[-1])), return_on_gpu=True).reshape((Y_.shape[0], Y_.shape[1], Y_.shape[0], Y_.shape[1]))\n",
    "M_XY = static_kernel(X_.reshape((-1, X_.shape[-1])), Y_.reshape((-1, Y_.shape[-1])), return_on_gpu=True).reshape((X_.shape[0], X_.shape[1], Y_.shape[0], Y_.shape[1]))\n",
    "K_XX_ = signature_kern_higher_order(M_X, n_levels, order, return_levels=False, difference=difference)\n",
    "K_YY_ = signature_kern_higher_order(M_Y, n_levels, order, return_levels=False, difference=difference)\n",
    "K_XY_ = signature_kern_higher_order(M_XY, n_levels, order, return_levels=False, difference=difference)\n",
    "np.fill_diagonal(K_XX_, 0)\n",
    "np.fill_diagonal(K_YY_, 0)\n",
    "\n",
    "# check that the kernel sums are the same\n",
    "perm_K_XX_sum - K_XX_.sum(), perm_K_YY_sum - K_YY_.sum(), perm_K_XY_sum - K_XY_.sum()"
   ]
  },
  {
   "cell_type": "code",
   "execution_count": 136,
   "metadata": {},
   "outputs": [
    {
     "data": {
      "text/plain": [
       "array([[0.     , 0.85258, 1.34241, ..., 1.49703, 1.50868, 1.13674],\n",
       "       [0.85258, 0.     , 0.90517, ..., 0.86797, 0.86529, 0.95979],\n",
       "       [1.34241, 0.90517, 0.     , ..., 1.30281, 1.30964, 1.08569],\n",
       "       ...,\n",
       "       [1.49703, 0.86797, 1.30281, ..., 0.     , 1.4482 , 1.12152],\n",
       "       [1.50868, 0.86529, 1.30964, ..., 1.4482 , 0.     , 1.12416],\n",
       "       [1.13674, 0.95979, 1.08569, ..., 1.12152, 1.12416, 0.     ]])"
      ]
     },
     "execution_count": 136,
     "metadata": {},
     "output_type": "execute_result"
    }
   ],
   "source": [
    "K_XX"
   ]
  },
  {
   "cell_type": "code",
   "execution_count": 137,
   "metadata": {},
   "outputs": [
    {
     "data": {
      "text/plain": [
       "array([[  0.     ,   4.80522,   3.95164, ...,   4.09616,   0.92369,\n",
       "          2.14102],\n",
       "       [  4.80522,   0.     , 547.08783, ..., 608.01984,   0.34707,\n",
       "         68.32264],\n",
       "       [  3.95164, 547.08783,   0.     , ..., 354.04379,   0.43211,\n",
       "         44.70518],\n",
       "       ...,\n",
       "       [  4.09616, 608.01984, 354.04379, ...,   0.     ,   0.41642,\n",
       "         48.38842],\n",
       "       [  0.92369,   0.34707,   0.43211, ...,   0.41642,   0.     ,\n",
       "          0.69827],\n",
       "       [  2.14102,  68.32264,  44.70518, ...,  48.38842,   0.69827,\n",
       "          0.     ]])"
      ]
     },
     "execution_count": 137,
     "metadata": {},
     "output_type": "execute_result"
    }
   ],
   "source": [
    "K_YY"
   ]
  },
  {
   "cell_type": "code",
   "execution_count": 138,
   "metadata": {},
   "outputs": [
    {
     "data": {
      "text/plain": [
       "array([[1.35663, 8.51495, 6.61311, ..., 6.92856, 0.8853 , 2.942  ],\n",
       "       [0.90162, 0.20339, 0.3003 , ..., 0.28224, 1.0366 , 0.61827],\n",
       "       [1.21955, 4.59484, 3.79637, ..., 3.93178, 0.92645, 2.08984],\n",
       "       ...,\n",
       "       [1.31528, 7.17453, 5.66559, ..., 5.91739, 0.89737, 2.67077],\n",
       "       [1.32242, 7.39577, 5.82293, ..., 6.08511, 0.89527, 2.71672],\n",
       "       [1.08905, 2.11606, 1.90811, ..., 1.94439, 0.96892, 1.4019 ]])"
      ]
     },
     "execution_count": 138,
     "metadata": {},
     "output_type": "execute_result"
    }
   ],
   "source": [
    "K_XY"
   ]
  },
  {
   "cell_type": "code",
   "execution_count": 142,
   "metadata": {},
   "outputs": [
    {
     "data": {
      "text/plain": [
       "array([   -0.36753,    -0.3665 ,    -0.36602, ...,  5533.05187,\n",
       "        9176.38822, 19146.14343])"
      ]
     },
     "execution_count": 142,
     "metadata": {},
     "output_type": "execute_result"
    }
   ],
   "source": [
    "rK_XX = np.round(K_XX, 5)\n",
    "rK_YY = np.round(K_YY, 5)\n",
    "rK_XY = np.round(K_XY, 5)\n",
    "set1 = np.union1d(np.union1d(rK_XX[np.ix_(X_inds_sample_1, X_inds_sample_1)],\n",
    "                             rK_YY[np.ix_(Y_inds_sample_1, Y_inds_sample_1)]),\n",
    "                  rK_XY[np.ix_(X_inds_sample_1, Y_inds_sample_1)])\n",
    "set1"
   ]
  },
  {
   "cell_type": "code",
   "execution_count": 143,
   "metadata": {},
   "outputs": [
    {
     "data": {
      "text/plain": [
       "array([   -0.36753,    -0.3665 ,    -0.36602, ...,  5533.05187,\n",
       "        9176.38822, 19146.14343])"
      ]
     },
     "execution_count": 143,
     "metadata": {},
     "output_type": "execute_result"
    }
   ],
   "source": [
    "set2 = np.unique(np.round(K_XX_, 5))\n",
    "set2"
   ]
  },
  {
   "cell_type": "code",
   "execution_count": 144,
   "metadata": {},
   "outputs": [
    {
     "data": {
      "text/plain": [
       "(array([], dtype=float64), array([], dtype=float64))"
      ]
     },
     "execution_count": 144,
     "metadata": {},
     "output_type": "execute_result"
    }
   ],
   "source": [
    "np.setdiff1d(set1, set2), np.setdiff1d(set2, set1)"
   ]
  },
  {
   "cell_type": "markdown",
   "metadata": {},
   "source": [
    "# GPU Memory Usage"
   ]
  },
  {
   "cell_type": "code",
   "execution_count": 7,
   "metadata": {},
   "outputs": [],
   "source": [
    "import numpy as np\n",
    "import cupy as cp\n",
    "\n",
    "n=int(2e4)\n",
    "x = cp.array(np.random.randn(n,n))"
   ]
  },
  {
   "cell_type": "code",
   "execution_count": 8,
   "metadata": {},
   "outputs": [],
   "source": [
    "x = cp.asnumpy(x)\n",
    "cp._default_memory_pool.free_all_blocks()\n",
    "y = cp.array(np.random.randn(n,n))\n",
    "y = y @ y\n",
    "y = cp.asnumpy(y)\n",
    "cp._default_memory_pool.free_all_blocks()\n",
    "z = cp.array(np.random.randn(n,n))\n",
    "z = z @ z\n",
    "z = cp.asnumpy(z)\n",
    "cp._default_memory_pool.free_all_blocks()"
   ]
  }
 ],
 "metadata": {
  "kernelspec": {
   "display_name": "ksig",
   "language": "python",
   "name": "python3"
  },
  "language_info": {
   "codemirror_mode": {
    "name": "ipython",
    "version": 3
   },
   "file_extension": ".py",
   "mimetype": "text/x-python",
   "name": "python",
   "nbconvert_exporter": "python",
   "pygments_lexer": "ipython3",
   "version": "3.11.5"
  }
 },
 "nbformat": 4,
 "nbformat_minor": 2
}
