{
 "cells": [
  {
   "cell_type": "code",
   "execution_count": 1,
   "metadata": {},
   "outputs": [],
   "source": [
    "import numpy as np\n",
    "import matplotlib.pyplot as plt\n",
    "%matplotlib inline\n",
    "from tqdm import tqdm\n",
    "import ksig"
   ]
  },
  {
   "cell_type": "code",
   "execution_count": 2,
   "metadata": {},
   "outputs": [],
   "source": [
    "n_levels = 5\n",
    "# number of signature levels to use\n",
    "\n",
    "# static_kernel = ksig.static.kernels.RBFKernel()\n",
    "# an RBF base kernel for vector-valued data which is lifted to a kernel for sequences\n",
    "\n",
    "static_kernel = ksig.static.kernels.LinearKernel()\n",
    "\n",
    "sig_kernel = ksig.kernels.SignatureKernel(n_levels, static_kernel=static_kernel)\n",
    "# a SignatureKernel object, which works as a callable for computing the signature kernel matrix\n",
    "\n",
    "n_seq, l_seq, n_feat = 10, 50, 5\n",
    "X = np.random.randn(n_seq, l_seq, n_feat)\n",
    "# generate 10 sequences of length 50 with 5 features\n",
    "\n",
    "K_XX = sig_kernel(X) # K_XX has shape (10, 10)\n",
    "# compute the signature kernel matrix k(X, X)\n",
    "# more efficient than calling sig_kernel(X, X)\n",
    "\n",
    "K_X = sig_kernel(X, diag=True) # K_X has shape (10,)\n",
    "# compute only the diagonal entries of the signature kernel matrix\n",
    "\n",
    "n_seq2, l_seq2 = 8, 20\n",
    "Y = np.random.randn(n_seq2, l_seq2, n_feat)\n",
    "# generate another array of 8 sequences of length 20 and 5 features\n",
    "\n",
    "# K_XY = sig_kernel(X, Y) # K_XY has shape (10, 8)\n",
    "# # compute the kernel matrix between arrays X and Y"
   ]
  },
  {
   "cell_type": "code",
   "execution_count": 3,
   "metadata": {},
   "outputs": [
    {
     "data": {
      "text/plain": [
       "((200, 60, 1), (200, 60, 1))"
      ]
     },
     "execution_count": 3,
     "metadata": {},
     "output_type": "execute_result"
    }
   ],
   "source": [
    "# simulate geometric Brownian motion paths\n",
    "mu_x = 0.1\n",
    "sigma_x = 0.2\n",
    "mu_y = 0.2\n",
    "sigma_y = 0.2\n",
    "n_paths = 200\n",
    "n_steps = 60 - 1\n",
    "dt = 1/252\n",
    "X = np.exp((mu_x - 0.5 * sigma_x**2) * dt + sigma_x * np.sqrt(dt) * np.random.randn(n_paths, n_steps))\n",
    "Y = np.exp((mu_y - 0.5 * sigma_y**2) * dt + sigma_y * np.sqrt(dt) * np.random.randn(n_paths, n_steps))\n",
    "X = np.cumprod(X, axis=1)\n",
    "Y = np.cumprod(Y, axis=1)\n",
    "X = np.concatenate([np.ones((n_paths, 1)), X], axis=1)\n",
    "Y = np.concatenate([np.ones((n_paths, 1)), Y], axis=1)\n",
    "X = X[..., np.newaxis]\n",
    "Y = Y[..., np.newaxis]\n",
    "X.shape, Y.shape"
   ]
  },
  {
   "cell_type": "code",
   "execution_count": 4,
   "metadata": {},
   "outputs": [],
   "source": [
    "def two_sample_permutation_test(test_statistic, X, Y, num_permutations):\n",
    "    assert X.ndim == Y.ndim\n",
    "\n",
    "    statistics = np.zeros(num_permutations)\n",
    "\n",
    "    for i in range(num_permutations):\n",
    "        # concatenate samples\n",
    "        if X.ndim == 1:\n",
    "            Z = np.hstack((X,Y))\n",
    "        elif X.ndim > 1:\n",
    "            Z = np.vstack((X,Y))\n",
    "        # permute samples and compute test statistic\n",
    "        perm_inds = np.random.permutation(len(Z))\n",
    "        Z = Z[perm_inds]\n",
    "        X_ = Z[:len(X)]\n",
    "        Y_ = Z[len(X):]\n",
    "        my_test_statistic = test_statistic(X_, Y_)\n",
    "        statistics[i] = my_test_statistic\n",
    "    return statistics\n",
    "\n",
    "def quadratic_time_mmd(X,Y,kernel):\n",
    "    # assert X.ndim == Y.ndim == 2\n",
    "    K_XX = kernel(X,X)\n",
    "    K_XY = kernel(X,Y)\n",
    "    K_YY = kernel(Y,Y)\n",
    "\n",
    "    n = len(K_XX)\n",
    "    m = len(K_YY)\n",
    "\n",
    "    # unbiased MMD statistic (could also use biased, doesn't matter if we use permutation tests)\n",
    "    np.fill_diagonal(K_XX, 0)\n",
    "    np.fill_diagonal(K_YY, 0)\n",
    "    mmd = np.sum(K_XX) / (n*(n-1))  + np.sum(K_YY) / (m*(m-1))  - 2*np.sum(K_XY)/(n*m)\n",
    "    return mmd\n",
    "\n",
    "def plot_permutation_samples(null_samples, statistic=None):\n",
    "    plt.hist(null_samples)\n",
    "    plt.axvline(x=np.percentile(null_samples, 2.5), c='b')\n",
    "    legend = [\"95% quantiles\"]\n",
    "    if statistic is not None:\n",
    "        plt.axvline(x=statistic, c='r')\n",
    "        legend += [\"Actual test statistic\"]\n",
    "    plt.legend(legend)\n",
    "    plt.axvline(x=np.percentile(null_samples, 97.5), c='b')\n",
    "    plt.xlabel(\"Test statistic value\")\n",
    "    plt.ylabel(\"Counts\")"
   ]
  },
  {
   "cell_type": "code",
   "execution_count": 5,
   "metadata": {},
   "outputs": [
    {
     "data": {
      "image/png": "[encoded data removed]",
      "text/plain": [
       "<Figure size 640x480 with 1 Axes>"
      ]
     },
     "metadata": {},
     "output_type": "display_data"
    }
   ],
   "source": [
    "num_permutations = 500\n",
    "\n",
    "my_kernel = lambda X,Y : sig_kernel(X, Y)\n",
    "my_mmd = lambda X,Y : quadratic_time_mmd(X, Y, my_kernel)\n",
    "\n",
    "statistics = two_sample_permutation_test(my_mmd, X, Y, num_permutations)\n",
    "my_statistic = my_mmd(X,Y)\n",
    "\n",
    "plot_permutation_samples(statistics, my_statistic)"
   ]
  }
 ],
 "metadata": {
  "kernelspec": {
   "display_name": "ksig",
   "language": "python",
   "name": "python3"
  },
  "language_info": {
   "codemirror_mode": {
    "name": "ipython",
    "version": 3
   },
   "file_extension": ".py",
   "mimetype": "text/x-python",
   "name": "python",
   "nbconvert_exporter": "python",
   "pygments_lexer": "ipython3",
   "version": "3.11.5"
  }
 },
 "nbformat": 4,
 "nbformat_minor": 2
}
