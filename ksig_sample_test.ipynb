{
 "cells": [
  {
   "cell_type": "code",
   "execution_count": 11,
   "metadata": {},
   "outputs": [],
   "source": [
    "import numpy as np\n",
    "import matplotlib.pyplot as plt\n",
    "%matplotlib inline\n",
    "from tqdm import tqdm\n",
    "import ksig"
   ]
  },
  {
   "cell_type": "code",
   "execution_count": 2,
   "metadata": {},
   "outputs": [],
   "source": [
    "n_levels = 5 \n",
    "# number of signature levels to use\n",
    "\n",
    "n_components = 100\n",
    "# number of components to use in the static features and the randomized projections\n",
    "\n",
    "static_kernel = ksig.static.kernels.RBFKernel() \n",
    "# an RBF kernel for vector-valued data\n",
    "\n",
    "static_feat = ksig.static.features.NystroemFeatures(static_kernel, n_components=n_components)\n",
    "# Nystroem features with an RBF base kernel\n",
    "\n",
    "proj = ksig.projections.CountSketchRandomProjection(n_components=n_components)\n",
    "# a CountSketch random projection \n",
    "\n",
    "lr_sig_kernel = ksig.kernels.LowRankSignatureKernel(n_levels=n_levels, static_features=static_feat, projection=proj)\n",
    "# a low-rank signature kernel, which additionally to working as a callable for kernel matrix computations\n",
    "# also implements a fit method, which must be used to fit the kernel (and its subobjects) to the data\n",
    "# and a transform method, which can be used to transform an array of paths to their corresponding low-rank features\n",
    "\n",
    "# n_seq, l_seq, n_feat = 1000, 200, 100\n",
    "# X = np.random.randn(n_seq, l_seq, n_feat)\n",
    "# # generate 1000 sequences of length 200 with 100 features\n",
    "\n",
    "# lr_sig_kernel.fit(X)\n",
    "# # fit the kernel to the data\n",
    "\n",
    "# K_XX = lr_sig_kernel(X) # K_XX has shape (1000, 1000)\n",
    "# # compute the low-rank signature kernel matrix k(X, X)\n",
    "\n",
    "# n_seq2, l_seq2 = 800, 250\n",
    "# Y = np.random.randn(n_seq2, l_seq2, n_feat)\n",
    "# # generate another array of 800 sequences of length 250 and 100 features\n",
    "\n",
    "# K_XY = lr_sig_kernel(X, Y) # K_XY has shape (1000, 800)\n",
    "# # compute the kernel matrix between arrays X and Y\n",
    "# # the kernel does not have to be fitted a second time\n",
    "\n",
    "# P_X = lr_sig_kernel.transform(X) # P_X has shape (n_seq, 1+n_levels*n_components) i.e. (1000, 501) in this case\n",
    "# P_Y = lr_sig_kernel.transform(Y) # P_Y shape shape (800, 501)\n",
    "# # alternatively, one may directly compute the low-rank representations for both X and Y\n",
    "# # and then use these features to compute the kernel matrices K_XX and K_XY\n",
    "\n",
    "# print(np.linalg.norm(K_XX - P_X @ P_X.T)) # 1.5336806154787045e-14\n",
    "# print(np.linalg.norm(K_XY - P_X @ P_Y.T)) # 0.0"
   ]
  },
  {
   "cell_type": "code",
   "execution_count": 7,
   "metadata": {},
   "outputs": [
    {
     "data": {
      "text/plain": [
       "((1000, 200, 1), (1000, 200, 1))"
      ]
     },
     "execution_count": 7,
     "metadata": {},
     "output_type": "execute_result"
    }
   ],
   "source": [
    "# simulate geometric Brownian motion paths\n",
    "mu_x = 0.1\n",
    "sigma_x = 0.2\n",
    "mu_y = 0.2\n",
    "sigma_y = 0.3\n",
    "n_paths = 1000\n",
    "n_steps = 200 - 1\n",
    "dt = 0.01\n",
    "X = np.exp((mu_x - 0.5 * sigma_x**2) * dt + sigma_x * np.sqrt(dt) * np.random.randn(n_paths, n_steps))\n",
    "Y = np.exp((mu_y - 0.5 * sigma_y**2) * dt + sigma_y * np.sqrt(dt) * np.random.randn(n_paths, n_steps))\n",
    "X = np.cumprod(X, axis=1)\n",
    "Y = np.cumprod(Y, axis=1)\n",
    "X = np.concatenate([np.ones((n_paths, 1)), X], axis=1)\n",
    "Y = np.concatenate([np.ones((n_paths, 1)), Y], axis=1)\n",
    "X = X[..., np.newaxis]\n",
    "Y = Y[..., np.newaxis]\n",
    "X.shape, Y.shape"
   ]
  },
  {
   "cell_type": "code",
   "execution_count": 8,
   "metadata": {},
   "outputs": [
    {
     "name": "stderr",
     "output_type": "stream",
     "text": [
      "c:\\Users\\luchungi\\anaconda3\\envs\\ksig\\Lib\\site-packages\\ksig\\projections.py:110: UserWarning: n_features < n_components (10 < 100). The dimensionality of the problem will not be reduced.\n",
      "  warnings.warn(f'n_features < n_components ({self.n_features_} < {self.n_components}). The dimensionality of the problem will not be reduced.')\n"
     ]
    },
    {
     "data": {
      "text/html": [
       "<style>#sk-container-id-1 {color: black;}#sk-container-id-1 pre{padding: 0;}#sk-container-id-1 div.sk-toggleable {background-color: white;}#sk-container-id-1 label.sk-toggleable__label {cursor: pointer;display: block;width: 100%;margin-bottom: 0;padding: 0.3em;box-sizing: border-box;text-align: center;}#sk-container-id-1 label.sk-toggleable__label-arrow:before {content: \"▸\";float: left;margin-right: 0.25em;color: #696969;}#sk-container-id-1 label.sk-toggleable__label-arrow:hover:before {color: black;}#sk-container-id-1 div.sk-estimator:hover label.sk-toggleable__label-arrow:before {color: black;}#sk-container-id-1 div.sk-toggleable__content {max-height: 0;max-width: 0;overflow: hidden;text-align: left;background-color: #f0f8ff;}#sk-container-id-1 div.sk-toggleable__content pre {margin: 0.2em;color: black;border-radius: 0.25em;background-color: #f0f8ff;}#sk-container-id-1 input.sk-toggleable__control:checked~div.sk-toggleable__content {max-height: 200px;max-width: 100%;overflow: auto;}#sk-container-id-1 input.sk-toggleable__control:checked~label.sk-toggleable__label-arrow:before {content: \"▾\";}#sk-container-id-1 div.sk-estimator input.sk-toggleable__control:checked~label.sk-toggleable__label {background-color: #d4ebff;}#sk-container-id-1 div.sk-label input.sk-toggleable__control:checked~label.sk-toggleable__label {background-color: #d4ebff;}#sk-container-id-1 input.sk-hidden--visually {border: 0;clip: rect(1px 1px 1px 1px);clip: rect(1px, 1px, 1px, 1px);height: 1px;margin: -1px;overflow: hidden;padding: 0;position: absolute;width: 1px;}#sk-container-id-1 div.sk-estimator {font-family: monospace;background-color: #f0f8ff;border: 1px dotted black;border-radius: 0.25em;box-sizing: border-box;margin-bottom: 0.5em;}#sk-container-id-1 div.sk-estimator:hover {background-color: #d4ebff;}#sk-container-id-1 div.sk-parallel-item::after {content: \"\";width: 100%;border-bottom: 1px solid gray;flex-grow: 1;}#sk-container-id-1 div.sk-label:hover label.sk-toggleable__label {background-color: #d4ebff;}#sk-container-id-1 div.sk-serial::before {content: \"\";position: absolute;border-left: 1px solid gray;box-sizing: border-box;top: 0;bottom: 0;left: 50%;z-index: 0;}#sk-container-id-1 div.sk-serial {display: flex;flex-direction: column;align-items: center;background-color: white;padding-right: 0.2em;padding-left: 0.2em;position: relative;}#sk-container-id-1 div.sk-item {position: relative;z-index: 1;}#sk-container-id-1 div.sk-parallel {display: flex;align-items: stretch;justify-content: center;background-color: white;position: relative;}#sk-container-id-1 div.sk-item::before, #sk-container-id-1 div.sk-parallel-item::before {content: \"\";position: absolute;border-left: 1px solid gray;box-sizing: border-box;top: 0;bottom: 0;left: 50%;z-index: -1;}#sk-container-id-1 div.sk-parallel-item {display: flex;flex-direction: column;z-index: 1;position: relative;background-color: white;}#sk-container-id-1 div.sk-parallel-item:first-child::after {align-self: flex-end;width: 50%;}#sk-container-id-1 div.sk-parallel-item:last-child::after {align-self: flex-start;width: 50%;}#sk-container-id-1 div.sk-parallel-item:only-child::after {width: 0;}#sk-container-id-1 div.sk-dashed-wrapped {border: 1px dashed gray;margin: 0 0.4em 0.5em 0.4em;box-sizing: border-box;padding-bottom: 0.4em;background-color: white;}#sk-container-id-1 div.sk-label label {font-family: monospace;font-weight: bold;display: inline-block;line-height: 1.2em;}#sk-container-id-1 div.sk-label-container {text-align: center;}#sk-container-id-1 div.sk-container {/* jupyter's `normalize.less` sets `[hidden] { display: none; }` but bootstrap.min.css set `[hidden] { display: none !important; }` so we also need the `!important` here to be able to override the default hidden behavior on the sphinx rendered scikit-learn.org. See: https://github.com/scikit-learn/scikit-learn/issues/21755 */display: inline-block !important;position: relative;}#sk-container-id-1 div.sk-text-repr-fallback {display: none;}</style><div id=\"sk-container-id-1\" class=\"sk-top-container\"><div class=\"sk-text-repr-fallback\"><pre>LowRankSignatureKernel(n_levels=5, projection=CountSketchRandomProjection(),\n",
       "                       static_features=NystroemFeatures(static_kernel=RBFKernel()))</pre><b>In a Jupyter environment, please rerun this cell to show the HTML representation or trust the notebook. <br />On GitHub, the HTML representation is unable to render, please try loading this page with nbviewer.org.</b></div><div class=\"sk-container\" hidden><div class=\"sk-item sk-dashed-wrapped\"><div class=\"sk-label-container\"><div class=\"sk-label sk-toggleable\"><input class=\"sk-toggleable__control sk-hidden--visually\" id=\"sk-estimator-id-1\" type=\"checkbox\" ><label for=\"sk-estimator-id-1\" class=\"sk-toggleable__label sk-toggleable__label-arrow\">LowRankSignatureKernel</label><div class=\"sk-toggleable__content\"><pre>LowRankSignatureKernel(n_levels=5, projection=CountSketchRandomProjection(),\n",
       "                       static_features=NystroemFeatures(static_kernel=RBFKernel()))</pre></div></div></div><div class=\"sk-parallel\"><div class=\"sk-parallel-item\"><div class=\"sk-item\"><div class=\"sk-label-container\"><div class=\"sk-label sk-toggleable\"><input class=\"sk-toggleable__control sk-hidden--visually\" id=\"sk-estimator-id-2\" type=\"checkbox\" ><label for=\"sk-estimator-id-2\" class=\"sk-toggleable__label sk-toggleable__label-arrow\">projection: CountSketchRandomProjection</label><div class=\"sk-toggleable__content\"><pre>CountSketchRandomProjection()</pre></div></div></div><div class=\"sk-serial\"><div class=\"sk-item\"><div class=\"sk-estimator sk-toggleable\"><input class=\"sk-toggleable__control sk-hidden--visually\" id=\"sk-estimator-id-3\" type=\"checkbox\" ><label for=\"sk-estimator-id-3\" class=\"sk-toggleable__label sk-toggleable__label-arrow\">CountSketchRandomProjection</label><div class=\"sk-toggleable__content\"><pre>CountSketchRandomProjection()</pre></div></div></div></div></div></div><div class=\"sk-parallel-item\"><div class=\"sk-item\"><div class=\"sk-label-container\"><div class=\"sk-label sk-toggleable\"><input class=\"sk-toggleable__control sk-hidden--visually\" id=\"sk-estimator-id-4\" type=\"checkbox\" ><label for=\"sk-estimator-id-4\" class=\"sk-toggleable__label sk-toggleable__label-arrow\">static_features: NystroemFeatures</label><div class=\"sk-toggleable__content\"><pre>NystroemFeatures(static_kernel=RBFKernel())</pre></div></div></div><div class=\"sk-serial\"><div class=\"sk-item sk-dashed-wrapped\"><div class=\"sk-parallel\"><div class=\"sk-parallel-item\"><div class=\"sk-item\"><div class=\"sk-label-container\"><div class=\"sk-label sk-toggleable\"><input class=\"sk-toggleable__control sk-hidden--visually\" id=\"sk-estimator-id-5\" type=\"checkbox\" ><label for=\"sk-estimator-id-5\" class=\"sk-toggleable__label sk-toggleable__label-arrow\">static_kernel: RBFKernel</label><div class=\"sk-toggleable__content\"><pre>RBFKernel()</pre></div></div></div><div class=\"sk-serial\"><div class=\"sk-item\"><div class=\"sk-estimator sk-toggleable\"><input class=\"sk-toggleable__control sk-hidden--visually\" id=\"sk-estimator-id-6\" type=\"checkbox\" ><label for=\"sk-estimator-id-6\" class=\"sk-toggleable__label sk-toggleable__label-arrow\">RBFKernel</label><div class=\"sk-toggleable__content\"><pre>RBFKernel()</pre></div></div></div></div></div></div></div></div></div></div></div></div></div></div></div>"
      ],
      "text/plain": [
       "LowRankSignatureKernel(n_levels=5, projection=CountSketchRandomProjection(),\n",
       "                       static_features=NystroemFeatures(static_kernel=RBFKernel()))"
      ]
     },
     "execution_count": 8,
     "metadata": {},
     "output_type": "execute_result"
    }
   ],
   "source": [
    "lr_sig_kernel.fit(X)"
   ]
  },
  {
   "cell_type": "code",
   "execution_count": 18,
   "metadata": {},
   "outputs": [],
   "source": [
    "def two_sample_permutation_test(test_statistic, X, Y, num_permutations, prog_bar=True):\n",
    "    assert X.ndim == Y.ndim\n",
    "    \n",
    "    statistics = np.zeros(num_permutations)\n",
    "    \n",
    "    range_ = range(num_permutations)\n",
    "    if prog_bar:\n",
    "        range_ = tqdm(range_)\n",
    "    for i in range_:\n",
    "        # concatenate samples\n",
    "        if X.ndim == 1:\n",
    "            Z = np.hstack((X,Y))\n",
    "        elif X.ndim > 1:\n",
    "            Z = np.vstack((X,Y))\n",
    "        print(Z.shape)\n",
    "        # permute samples and compute test statistic\n",
    "        perm_inds = np.random.permutation(len(Z))\n",
    "        Z = Z[perm_inds]\n",
    "        X_ = Z[:len(X)]\n",
    "        Y_ = Z[len(X):]\n",
    "        my_test_statistic = test_statistic(X_, Y_)\n",
    "        statistics[i] = my_test_statistic\n",
    "    return statistics\n",
    "\n",
    "def quadratic_time_mmd(X,Y,kernel):\n",
    "    # assert X.ndim == Y.ndim == 2\n",
    "    K_XX = kernel(X,X)\n",
    "    K_XY = kernel(X,Y)\n",
    "    K_YY = kernel(Y,Y)\n",
    "       \n",
    "    n = len(K_XX)\n",
    "    m = len(K_YY)\n",
    "    \n",
    "    # unbiased MMD statistic (could also use biased, doesn't matter if we use permutation tests)\n",
    "    np.fill_diagonal(K_XX, 0)\n",
    "    np.fill_diagonal(K_YY, 0)\n",
    "    mmd = np.sum(K_XX) / (n*(n-1))  + np.sum(K_YY) / (m*(m-1))  - 2*np.sum(K_XY)/(n*m)\n",
    "    return mmd\n",
    "\n",
    "def plot_permutation_samples(null_samples, statistic=None):\n",
    "    plt.hist(null_samples)\n",
    "    plt.axvline(x=np.percentile(null_samples, 2.5), c='b')\n",
    "    legend = [\"95% quantiles\"]\n",
    "    if statistic is not None:\n",
    "        plt.axvline(x=statistic, c='r')\n",
    "        legend += [\"Actual test statistic\"]\n",
    "    plt.legend(legend)\n",
    "    plt.axvline(x=np.percentile(null_samples, 97.5), c='b')\n",
    "    plt.xlabel(\"Test statistic value\")\n",
    "    plt.ylabel(\"Counts\")"
   ]
  },
  {
   "cell_type": "code",
   "execution_count": 19,
   "metadata": {},
   "outputs": [
    {
     "name": "stderr",
     "output_type": "stream",
     "text": [
      "  0%|          | 0/200 [00:00<?, ?it/s]"
     ]
    },
    {
     "name": "stdout",
     "output_type": "stream",
     "text": [
      "(2000, 200, 1)\n"
     ]
    },
    {
     "name": "stderr",
     "output_type": "stream",
     "text": [
      "\n"
     ]
    },
    {
     "ename": "ValueError",
     "evalue": "Only input sequence arrays with ndim==2 or ndim==3 are supported.",
     "output_type": "error",
     "traceback": [
      "\u001b[1;31m---------------------------------------------------------------------------\u001b[0m",
      "\u001b[1;31mValueError\u001b[0m                                Traceback (most recent call last)",
      "\u001b[1;32mc:\\Git\\ds3_kernel_testing\\ksig_sample_test.ipynb Cell 6\u001b[0m line \u001b[0;36m6\n\u001b[0;32m      <a href='vscode-notebook-cell:/c%3A/Git/ds3_kernel_testing/ksig_sample_test.ipynb#W4sZmlsZQ%3D%3D?line=2'>3</a>\u001b[0m my_kernel \u001b[39m=\u001b[39m \u001b[39mlambda\u001b[39;00m X,Y : lr_sig_kernel(X, Y)\n\u001b[0;32m      <a href='vscode-notebook-cell:/c%3A/Git/ds3_kernel_testing/ksig_sample_test.ipynb#W4sZmlsZQ%3D%3D?line=3'>4</a>\u001b[0m my_mmd \u001b[39m=\u001b[39m \u001b[39mlambda\u001b[39;00m X,Y : quadratic_time_mmd(X[:,np\u001b[39m.\u001b[39mnewaxis],Y[:,np\u001b[39m.\u001b[39mnewaxis], my_kernel)\n\u001b[1;32m----> <a href='vscode-notebook-cell:/c%3A/Git/ds3_kernel_testing/ksig_sample_test.ipynb#W4sZmlsZQ%3D%3D?line=5'>6</a>\u001b[0m statistics \u001b[39m=\u001b[39m two_sample_permutation_test(my_mmd, X, Y, num_permutations)\n\u001b[0;32m      <a href='vscode-notebook-cell:/c%3A/Git/ds3_kernel_testing/ksig_sample_test.ipynb#W4sZmlsZQ%3D%3D?line=6'>7</a>\u001b[0m my_statistic \u001b[39m=\u001b[39m my_mmd(X,Y)\n\u001b[0;32m      <a href='vscode-notebook-cell:/c%3A/Git/ds3_kernel_testing/ksig_sample_test.ipynb#W4sZmlsZQ%3D%3D?line=8'>9</a>\u001b[0m plot_permutation_samples(statistics, my_statistic)\n",
      "\u001b[1;32mc:\\Git\\ds3_kernel_testing\\ksig_sample_test.ipynb Cell 6\u001b[0m line \u001b[0;36m2\n\u001b[0;32m     <a href='vscode-notebook-cell:/c%3A/Git/ds3_kernel_testing/ksig_sample_test.ipynb#W4sZmlsZQ%3D%3D?line=18'>19</a>\u001b[0m     X_ \u001b[39m=\u001b[39m Z[:\u001b[39mlen\u001b[39m(X)]\n\u001b[0;32m     <a href='vscode-notebook-cell:/c%3A/Git/ds3_kernel_testing/ksig_sample_test.ipynb#W4sZmlsZQ%3D%3D?line=19'>20</a>\u001b[0m     Y_ \u001b[39m=\u001b[39m Z[\u001b[39mlen\u001b[39m(X):]\n\u001b[1;32m---> <a href='vscode-notebook-cell:/c%3A/Git/ds3_kernel_testing/ksig_sample_test.ipynb#W4sZmlsZQ%3D%3D?line=20'>21</a>\u001b[0m     my_test_statistic \u001b[39m=\u001b[39m test_statistic(X_, Y_)\n\u001b[0;32m     <a href='vscode-notebook-cell:/c%3A/Git/ds3_kernel_testing/ksig_sample_test.ipynb#W4sZmlsZQ%3D%3D?line=21'>22</a>\u001b[0m     statistics[i] \u001b[39m=\u001b[39m my_test_statistic\n\u001b[0;32m     <a href='vscode-notebook-cell:/c%3A/Git/ds3_kernel_testing/ksig_sample_test.ipynb#W4sZmlsZQ%3D%3D?line=22'>23</a>\u001b[0m \u001b[39mreturn\u001b[39;00m statistics\n",
      "\u001b[1;32mc:\\Git\\ds3_kernel_testing\\ksig_sample_test.ipynb Cell 6\u001b[0m line \u001b[0;36m4\n\u001b[0;32m      <a href='vscode-notebook-cell:/c%3A/Git/ds3_kernel_testing/ksig_sample_test.ipynb#W4sZmlsZQ%3D%3D?line=0'>1</a>\u001b[0m num_permutations \u001b[39m=\u001b[39m \u001b[39m200\u001b[39m\n\u001b[0;32m      <a href='vscode-notebook-cell:/c%3A/Git/ds3_kernel_testing/ksig_sample_test.ipynb#W4sZmlsZQ%3D%3D?line=2'>3</a>\u001b[0m my_kernel \u001b[39m=\u001b[39m \u001b[39mlambda\u001b[39;00m X,Y : lr_sig_kernel(X, Y)\n\u001b[1;32m----> <a href='vscode-notebook-cell:/c%3A/Git/ds3_kernel_testing/ksig_sample_test.ipynb#W4sZmlsZQ%3D%3D?line=3'>4</a>\u001b[0m my_mmd \u001b[39m=\u001b[39m \u001b[39mlambda\u001b[39;00m X,Y : quadratic_time_mmd(X[:,np\u001b[39m.\u001b[39mnewaxis],Y[:,np\u001b[39m.\u001b[39mnewaxis], my_kernel)\n\u001b[0;32m      <a href='vscode-notebook-cell:/c%3A/Git/ds3_kernel_testing/ksig_sample_test.ipynb#W4sZmlsZQ%3D%3D?line=5'>6</a>\u001b[0m statistics \u001b[39m=\u001b[39m two_sample_permutation_test(my_mmd, X, Y, num_permutations)\n\u001b[0;32m      <a href='vscode-notebook-cell:/c%3A/Git/ds3_kernel_testing/ksig_sample_test.ipynb#W4sZmlsZQ%3D%3D?line=6'>7</a>\u001b[0m my_statistic \u001b[39m=\u001b[39m my_mmd(X,Y)\n",
      "\u001b[1;32mc:\\Git\\ds3_kernel_testing\\ksig_sample_test.ipynb Cell 6\u001b[0m line \u001b[0;36m2\n\u001b[0;32m     <a href='vscode-notebook-cell:/c%3A/Git/ds3_kernel_testing/ksig_sample_test.ipynb#W4sZmlsZQ%3D%3D?line=24'>25</a>\u001b[0m \u001b[39mdef\u001b[39;00m \u001b[39mquadratic_time_mmd\u001b[39m(X,Y,kernel):\n\u001b[0;32m     <a href='vscode-notebook-cell:/c%3A/Git/ds3_kernel_testing/ksig_sample_test.ipynb#W4sZmlsZQ%3D%3D?line=25'>26</a>\u001b[0m     \u001b[39m# assert X.ndim == Y.ndim == 2\u001b[39;00m\n\u001b[1;32m---> <a href='vscode-notebook-cell:/c%3A/Git/ds3_kernel_testing/ksig_sample_test.ipynb#W4sZmlsZQ%3D%3D?line=26'>27</a>\u001b[0m     K_XX \u001b[39m=\u001b[39m kernel(X,X)\n\u001b[0;32m     <a href='vscode-notebook-cell:/c%3A/Git/ds3_kernel_testing/ksig_sample_test.ipynb#W4sZmlsZQ%3D%3D?line=27'>28</a>\u001b[0m     K_XY \u001b[39m=\u001b[39m kernel(X,Y)\n\u001b[0;32m     <a href='vscode-notebook-cell:/c%3A/Git/ds3_kernel_testing/ksig_sample_test.ipynb#W4sZmlsZQ%3D%3D?line=28'>29</a>\u001b[0m     K_YY \u001b[39m=\u001b[39m kernel(Y,Y)\n",
      "\u001b[1;32mc:\\Git\\ds3_kernel_testing\\ksig_sample_test.ipynb Cell 6\u001b[0m line \u001b[0;36m3\n\u001b[0;32m      <a href='vscode-notebook-cell:/c%3A/Git/ds3_kernel_testing/ksig_sample_test.ipynb#W4sZmlsZQ%3D%3D?line=0'>1</a>\u001b[0m num_permutations \u001b[39m=\u001b[39m \u001b[39m200\u001b[39m\n\u001b[1;32m----> <a href='vscode-notebook-cell:/c%3A/Git/ds3_kernel_testing/ksig_sample_test.ipynb#W4sZmlsZQ%3D%3D?line=2'>3</a>\u001b[0m my_kernel \u001b[39m=\u001b[39m \u001b[39mlambda\u001b[39;00m X,Y : lr_sig_kernel(X, Y)\n\u001b[0;32m      <a href='vscode-notebook-cell:/c%3A/Git/ds3_kernel_testing/ksig_sample_test.ipynb#W4sZmlsZQ%3D%3D?line=3'>4</a>\u001b[0m my_mmd \u001b[39m=\u001b[39m \u001b[39mlambda\u001b[39;00m X,Y : quadratic_time_mmd(X[:,np\u001b[39m.\u001b[39mnewaxis],Y[:,np\u001b[39m.\u001b[39mnewaxis], my_kernel)\n\u001b[0;32m      <a href='vscode-notebook-cell:/c%3A/Git/ds3_kernel_testing/ksig_sample_test.ipynb#W4sZmlsZQ%3D%3D?line=5'>6</a>\u001b[0m statistics \u001b[39m=\u001b[39m two_sample_permutation_test(my_mmd, X, Y, num_permutations)\n",
      "File \u001b[1;32mc:\\Users\\luchungi\\anaconda3\\envs\\ksig\\Lib\\site-packages\\ksig\\static\\features.py:187\u001b[0m, in \u001b[0;36mLowRankFeatures.__call__\u001b[1;34m(self, X, Y, diag, return_on_gpu)\u001b[0m\n\u001b[0;32m    170\u001b[0m \u001b[39m\u001b[39m\u001b[39m\"\"\"Wrapper function to make the class work as a callable for kernel computations by taking inner products between feature vectors.\u001b[39;00m\n\u001b[0;32m    171\u001b[0m \n\u001b[0;32m    172\u001b[0m \u001b[39mThe 3 possible kinds of behaviour are:\u001b[39;00m\n\u001b[1;32m   (...)\u001b[0m\n\u001b[0;32m    184\u001b[0m \u001b[39m    ArrayOnCPUOrGPU: A kernel matrix or the diagonal entries of a kernel matrix as a NumPy or CuPy array.\u001b[39;00m\n\u001b[0;32m    185\u001b[0m \u001b[39m\"\"\"\u001b[39;00m\n\u001b[0;32m    186\u001b[0m check_is_fitted(\u001b[39mself\u001b[39m)\n\u001b[1;32m--> 187\u001b[0m X \u001b[39m=\u001b[39m \u001b[39mself\u001b[39m\u001b[39m.\u001b[39m_validate_data(X)\n\u001b[0;32m    188\u001b[0m \u001b[39mif\u001b[39;00m Y \u001b[39mis\u001b[39;00m \u001b[39mnot\u001b[39;00m \u001b[39mNone\u001b[39;00m:\n\u001b[0;32m    189\u001b[0m     Y \u001b[39m=\u001b[39m \u001b[39mself\u001b[39m\u001b[39m.\u001b[39m_validate_data(Y)\n",
      "File \u001b[1;32mc:\\Users\\luchungi\\anaconda3\\envs\\ksig\\Lib\\site-packages\\ksig\\kernels.py:56\u001b[0m, in \u001b[0;36mSignatureBase._validate_data\u001b[1;34m(self, X, reset)\u001b[0m\n\u001b[0;32m     53\u001b[0m         \u001b[39mraise\u001b[39;00m \u001b[39mValueError\u001b[39;00m(\u001b[39m'\u001b[39m\u001b[39mThe last dimension of the 3-dim input array does not match the saved n_features parameter \u001b[39m\u001b[39m'\u001b[39m,\n\u001b[0;32m     54\u001b[0m                          \u001b[39m'\u001b[39m\u001b[39m(either during init or during the last time fit was called).\u001b[39m\u001b[39m'\u001b[39m)\n\u001b[0;32m     55\u001b[0m \u001b[39melse\u001b[39;00m:\n\u001b[1;32m---> 56\u001b[0m     \u001b[39mraise\u001b[39;00m \u001b[39mValueError\u001b[39;00m(\u001b[39m'\u001b[39m\u001b[39mOnly input sequence arrays with ndim==2 or ndim==3 are supported.\u001b[39m\u001b[39m'\u001b[39m)\n\u001b[0;32m     57\u001b[0m \u001b[39m# reshape data to ndim==3\u001b[39;00m\n\u001b[0;32m     58\u001b[0m X \u001b[39m=\u001b[39m X\u001b[39m.\u001b[39mreshape([X\u001b[39m.\u001b[39mshape[\u001b[39m0\u001b[39m], \u001b[39m-\u001b[39m\u001b[39m1\u001b[39m, n_features])\n",
      "\u001b[1;31mValueError\u001b[0m: Only input sequence arrays with ndim==2 or ndim==3 are supported."
     ]
    }
   ],
   "source": [
    "num_permutations = 200\n",
    "\n",
    "my_kernel = lambda X,Y : lr_sig_kernel(X, Y)\n",
    "my_mmd = lambda X,Y : quadratic_time_mmd(X[:,np.newaxis],Y[:,np.newaxis], my_kernel)\n",
    "\n",
    "statistics = two_sample_permutation_test(my_mmd, X, Y, num_permutations)\n",
    "my_statistic = my_mmd(X,Y)\n",
    "\n",
    "plot_permutation_samples(statistics, my_statistic)"
   ]
  },
  {
   "cell_type": "code",
   "execution_count": null,
   "metadata": {},
   "outputs": [],
   "source": []
  }
 ],
 "metadata": {
  "kernelspec": {
   "display_name": "ksig",
   "language": "python",
   "name": "python3"
  },
  "language_info": {
   "codemirror_mode": {
    "name": "ipython",
    "version": 3
   },
   "file_extension": ".py",
   "mimetype": "text/x-python",
   "name": "python",
   "nbconvert_exporter": "python",
   "pygments_lexer": "ipython3",
   "version": "3.11.5"
  }
 },
 "nbformat": 4,
 "nbformat_minor": 2
}
