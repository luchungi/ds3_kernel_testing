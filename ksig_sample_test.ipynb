{
 "cells": [
  {
   "cell_type": "code",
   "execution_count": null,
   "metadata": {},
   "outputs": [],
   "source": [
    "import numpy as np\n",
    "import matplotlib.pyplot as plt\n",
    "%matplotlib inline\n",
    "from tqdm import tqdm_notebooks as tqdm\n",
    "import ksig"
   ]
  },
  {
   "cell_type": "code",
   "execution_count": 1,
   "metadata": {},
   "outputs": [
    {
     "name": "stdout",
     "output_type": "stream",
     "text": [
      "7.568701701866894e-15\n",
      "0.0\n"
     ]
    }
   ],
   "source": [
    "n_levels = 5 \n",
    "# number of signature levels to use\n",
    "\n",
    "n_components = 100\n",
    "# number of components to use in the static features and the randomized projections\n",
    "\n",
    "static_kernel = ksig.static.kernels.RBFKernel() \n",
    "# an RBF kernel for vector-valued data\n",
    "\n",
    "static_feat = ksig.static.features.NystroemFeatures(static_kernel, n_components=n_components)\n",
    "# Nystroem features with an RBF base kernel\n",
    "\n",
    "proj = ksig.projections.CountSketchRandomProjection(n_components=n_components)\n",
    "# a CountSketch random projection \n",
    "\n",
    "lr_sig_kernel = ksig.kernels.LowRankSignatureKernel(n_levels=n_levels, static_features=static_feat, projection=proj)\n",
    "# a low-rank signature kernel, which additionally to working as a callable for kernel matrix computations\n",
    "# also implements a fit method, which must be used to fit the kernel (and its subobjects) to the data\n",
    "# and a transform method, which can be used to transform an array of paths to their corresponding low-rank features\n",
    "\n",
    "n_seq, l_seq, n_feat = 1000, 200, 100\n",
    "X = np.random.randn(n_seq, l_seq, n_feat)\n",
    "# generate 1000 sequences of length 200 with 100 features\n",
    "\n",
    "lr_sig_kernel.fit(X)\n",
    "# fit the kernel to the data\n",
    "\n",
    "K_XX = lr_sig_kernel(X) # K_XX has shape (1000, 1000)\n",
    "# compute the low-rank signature kernel matrix k(X, X)\n",
    "\n",
    "n_seq2, l_seq2 = 800, 250\n",
    "Y = np.random.randn(n_seq2, l_seq2, n_feat)\n",
    "# generate another array of 800 sequences of length 250 and 100 features\n",
    "\n",
    "K_XY = lr_sig_kernel(X, Y) # K_XY has shape (1000, 800)\n",
    "# compute the kernel matrix between arrays X and Y\n",
    "# the kernel does not have to be fitted a second time\n",
    "\n",
    "P_X = lr_sig_kernel.transform(X) # P_X has shape (n_seq, 1+n_levels*n_components) i.e. (1000, 501) in this case\n",
    "P_Y = lr_sig_kernel.transform(Y) # P_Y shape shape (800, 501)\n",
    "# alternatively, one may directly compute the low-rank representations for both X and Y\n",
    "# and then use these features to compute the kernel matrices K_XX and K_XY\n",
    "\n",
    "print(np.linalg.norm(K_XX - P_X @ P_X.T)) # 1.5336806154787045e-14\n",
    "print(np.linalg.norm(K_XY - P_X @ P_Y.T)) # 0.0"
   ]
  },
  {
   "cell_type": "code",
   "execution_count": null,
   "metadata": {},
   "outputs": [],
   "source": [
    "def two_sample_permutation_test(test_statistic, X, Y, num_permutations, prog_bar=True):\n",
    "    assert X.ndim == Y.ndim\n",
    "    \n",
    "    statistics = np.zeros(num_permutations)\n",
    "    \n",
    "    range_ = range(num_permutations)\n",
    "    if prog_bar:\n",
    "        range_ = tqdm(range_)\n",
    "    for i in range_:\n",
    "        # concatenate samples\n",
    "        if X.ndim == 1:\n",
    "            Z = np.hstack((X,Y))\n",
    "        elif X.ndim == 2:\n",
    "            Z = np.vstack((X,Y))\n",
    "            \n",
    "        # permute samples and compute test statistic\n",
    "        perm_inds = np.random.permutation(len(Z))\n",
    "        Z = Z[perm_inds]\n",
    "        X_ = Z[:len(X)]\n",
    "        Y_ = Z[len(X):]\n",
    "        my_test_statistic = test_statistic(X_, Y_)\n",
    "        statistics[i] = my_test_statistic\n",
    "    return statistics\n",
    "\n",
    "def quadratic_time_mmd(X,Y,kernel):\n",
    "    assert X.ndim == Y.ndim == 2\n",
    "    K_XX = kernel(X,X)\n",
    "    K_XY = kernel(X,Y)\n",
    "    K_YY = kernel(Y,Y)\n",
    "       \n",
    "    n = len(K_XX)\n",
    "    m = len(K_YY)\n",
    "    \n",
    "    # unbiased MMD statistic (could also use biased, doesn't matter if we use permutation tests)\n",
    "    np.fill_diagonal(K_XX, 0)\n",
    "    np.fill_diagonal(K_YY, 0)\n",
    "    mmd = np.sum(K_XX) / (n*(n-1))  + np.sum(K_YY) / (m*(m-1))  - 2*np.sum(K_XY)/(n*m)\n",
    "    return mmd\n",
    "\n",
    "def plot_permutation_samples(null_samples, statistic=None):\n",
    "    plt.hist(null_samples)\n",
    "    plt.axvline(x=np.percentile(null_samples, 2.5), c='b')\n",
    "    legend = [\"95% quantiles\"]\n",
    "    if statistic is not None:\n",
    "        plt.axvline(x=statistic, c='r')\n",
    "        legend += [\"Actual test statistic\"]\n",
    "    plt.legend(legend)\n",
    "    plt.axvline(x=np.percentile(null_samples, 97.5), c='b')\n",
    "    plt.xlabel(\"Test statistic value\")\n",
    "    plt.ylabel(\"Counts\")"
   ]
  },
  {
   "cell_type": "code",
   "execution_count": null,
   "metadata": {},
   "outputs": [],
   "source": [
    "num_permutations = 200\n",
    "\n",
    "my_kernel = lambda X,Y : lr_sig_kernel(X, Y)\n",
    "my_mmd = lambda X,Y : quadratic_time_mmd(X[:,np.newaxis],Y[:,np.newaxis], my_kernel)\n",
    "\n",
    "statistics = two_sample_permutation_test(my_mmd, X, Y, num_permutations)\n",
    "my_statistic = my_mmd(X,Y)\n",
    "\n",
    "plot_permutation_samples(statistics, my_statistic)"
   ]
  },
  {
   "cell_type": "code",
   "execution_count": null,
   "metadata": {},
   "outputs": [],
   "source": []
  }
 ],
 "metadata": {
  "kernelspec": {
   "display_name": "ksig",
   "language": "python",
   "name": "python3"
  },
  "language_info": {
   "codemirror_mode": {
    "name": "ipython",
    "version": 3
   },
   "file_extension": ".py",
   "mimetype": "text/x-python",
   "name": "python",
   "nbconvert_exporter": "python",
   "pygments_lexer": "ipython3",
   "version": "3.11.5"
  }
 },
 "nbformat": 4,
 "nbformat_minor": 2
}
